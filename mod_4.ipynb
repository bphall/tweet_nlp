{
 "cells": [
  {
   "cell_type": "markdown",
   "metadata": {},
   "source": [
    "# Setup"
   ]
  },
  {
   "cell_type": "code",
   "execution_count": 171,
   "metadata": {
    "scrolled": true
   },
   "outputs": [],
   "source": [
    "import nltk\n",
    "import time\n",
    "import re\n",
    "import numpy as np\n",
    "import pandas as pd\n",
    "import twint\n",
    "import json\n",
    "from pprint import pprint\n",
    "\n",
    "# Gensim\n",
    "import gensim\n",
    "import gensim.corpora as corpora\n",
    "from gensim.utils import simple_preprocess\n",
    "from gensim.models import CoherenceModel\n",
    "\n",
    "# spacy for lemmatization\n",
    "import spacy\n",
    "\n",
    "# Plotting tools FOR TOPIC MODELING\n",
    "import pyLDAvis\n",
    "import pyLDAvis.gensim  # don't skip this\n",
    "import matplotlib.pyplot as plt\n",
    "%matplotlib inline\n",
    "\n",
    "# Enable logging for gensim - optional  (I HAVEN'T USED THIS YET)\n",
    "import logging\n",
    "logging.basicConfig(format='%(asctime)s : %(levelname)s : %(message)s', level=logging.ERROR)\n",
    "\n",
    "import warnings\n",
    "warnings.filterwarnings(\"ignore\",category=DeprecationWarning)\n",
    "\n",
    "# NLTK Stop words -------------- ADD TO THESE AS WE SEE FIT\n",
    "from nltk.corpus import stopwords\n",
    "\n",
    "pd.set_option('display.max_columns', 50)\n",
    "pd.set_option('display.max_rows', 50)"
   ]
  },
  {
   "cell_type": "markdown",
   "metadata": {},
   "source": [
    "# TWINT SCRAPING FROM TWITTER "
   ]
  },
  {
   "cell_type": "markdown",
   "metadata": {},
   "source": [
    "---\n",
    "\n",
    "SEE https://github.com/twintproject/twint for options. The following cell returns a .csv file from all tweets containing 'Coronavirs' since the time specified by the [--since] option, in the [--lang] of english (en), and the csv file gets named after whatever iteration of scraping it is plus useful search parameters in the file name.\n",
    "\n",
    "\n",
    "---"
   ]
  },
  {
   "cell_type": "code",
   "execution_count": 4,
   "metadata": {},
   "outputs": [],
   "source": [
    "# THE TWINT COMMAND I USE IN TERMINAL TO SCRAPE\n",
    "\n",
    "# twint -s Coronavirus --since \"2020-03-24 20:00:00\" --lang en -o just_cv_en_2 --csv"
   ]
  },
  {
   "cell_type": "markdown",
   "metadata": {},
   "source": [
    "# Importing and Prepocessing "
   ]
  },
  {
   "cell_type": "markdown",
   "metadata": {},
   "source": [
    "---\n",
    "\n",
    "**Open the corpus_pipeline to make changes, I'm sure there's lots of ways to clean tweets beyond simply regexing for emails and new line characters, probably way more preprocessing we can do, especially with .extending the stopwords.**\n",
    "\n",
    "---"
   ]
  },
  {
   "cell_type": "code",
   "execution_count": 8,
   "metadata": {},
   "outputs": [],
   "source": [
    "df3 = pd.read_csv('./just_cv/twint_3_en.csv')"
   ]
  },
  {
   "cell_type": "code",
   "execution_count": 9,
   "metadata": {
    "scrolled": true
   },
   "outputs": [
    {
     "data": {
      "text/plain": [
       "(14400, 34)"
      ]
     },
     "execution_count": 9,
     "metadata": {},
     "output_type": "execute_result"
    }
   ],
   "source": [
    "df3.shape"
   ]
  },
  {
   "cell_type": "code",
   "execution_count": 10,
   "metadata": {},
   "outputs": [],
   "source": [
    "df4 = pd.read_csv('./just_cv/twint_4_en.csv')"
   ]
  },
  {
   "cell_type": "code",
   "execution_count": 11,
   "metadata": {},
   "outputs": [
    {
     "data": {
      "text/plain": [
       "(14399, 34)"
      ]
     },
     "execution_count": 11,
     "metadata": {},
     "output_type": "execute_result"
    }
   ],
   "source": [
    "df4.shape"
   ]
  },
  {
   "cell_type": "code",
   "execution_count": 12,
   "metadata": {},
   "outputs": [],
   "source": [
    "df5 = pd.read_csv('./just_cv/twint_5_en.csv')"
   ]
  },
  {
   "cell_type": "code",
   "execution_count": 13,
   "metadata": {},
   "outputs": [
    {
     "data": {
      "text/plain": [
       "(14399, 34)"
      ]
     },
     "execution_count": 13,
     "metadata": {},
     "output_type": "execute_result"
    }
   ],
   "source": [
    "df5.shape"
   ]
  },
  {
   "cell_type": "code",
   "execution_count": 14,
   "metadata": {},
   "outputs": [],
   "source": [
    "df6 = pd.read_csv('./just_cv/twint_6_en.csv')"
   ]
  },
  {
   "cell_type": "code",
   "execution_count": 15,
   "metadata": {},
   "outputs": [
    {
     "data": {
      "text/plain": [
       "(14399, 34)"
      ]
     },
     "execution_count": 15,
     "metadata": {},
     "output_type": "execute_result"
    }
   ],
   "source": [
    "df6.shape"
   ]
  },
  {
   "cell_type": "code",
   "execution_count": 16,
   "metadata": {},
   "outputs": [],
   "source": [
    "data3 = df3.tweet.values"
   ]
  },
  {
   "cell_type": "code",
   "execution_count": 17,
   "metadata": {},
   "outputs": [],
   "source": [
    "data4 = df4.tweet.values"
   ]
  },
  {
   "cell_type": "code",
   "execution_count": 18,
   "metadata": {},
   "outputs": [],
   "source": [
    "data5 = df5.tweet.values"
   ]
  },
  {
   "cell_type": "code",
   "execution_count": 19,
   "metadata": {},
   "outputs": [],
   "source": [
    "data6 = df6.tweet.values"
   ]
  },
  {
   "cell_type": "code",
   "execution_count": 20,
   "metadata": {},
   "outputs": [],
   "source": [
    "data = np.concatenate([data3, data4, data5, data6])"
   ]
  },
  {
   "cell_type": "code",
   "execution_count": 21,
   "metadata": {
    "scrolled": true
   },
   "outputs": [
    {
     "data": {
      "text/plain": [
       "(57597,)"
      ]
     },
     "execution_count": 21,
     "metadata": {},
     "output_type": "execute_result"
    }
   ],
   "source": [
    "data.shape"
   ]
  },
  {
   "cell_type": "code",
   "execution_count": 22,
   "metadata": {
    "scrolled": false
   },
   "outputs": [
    {
     "data": {
      "text/plain": [
       "array(['I said they are better than nothing, not that they are as good as the medical ones. There was no \"bare face\" group to fully show how effective the cloth masks are. The cloth masks are not meant to protect you from coronavirus, they are there to catch at least some of the 1/2',\n",
       "       'Oops: CNN Forgot To Translate Its Latest Coronavirus Update From Mandarin |   https://babylonbee.com/news/cnn-embarassed-after-forgetting-to-translate-latest-coronavirus-update-from-mandarin-before-publishing\\xa0…',\n",
       "       'Speeding up https://twitter.com/ryanfiredragon/status/1242886374963007493\\xa0…',\n",
       "       ...,\n",
       "       'Now that the Coronavirus Act is live, here are the links to the newly amended notices. In use from today  https://twitter.com/seccles74/status/1243161076394532865\\xa0…',\n",
       "       'Countries ranked for most cumulative cases of Coronavirus: \\n\\nChina 81,218\\nItaly 74,386\\nUSA 68,211\\nSpain 49,515\\nGermany 37,323\\nIran 27,017\\nFrance 25,233\\nSwitzerland 10,897\\nUK 9,529\\nS. Korea 9,137\\nNetherlands 6,412\\nAustria 5,588\\nBelgium 4,937\\n\\n#COVID2019\\n#COVID_19 #Coronavirus  pic.twitter.com/GjHANY6Gb4',\n",
       "       'Coronavirus: How you can help Bay Area’s most vulnerable -  http://SFChronicle.com\\xa0 https://www.sfchronicle.com/bayarea/article/Ways-to-help-Bay-Area-s-most-vulnerable-15141732.php\\xa0…'],\n",
       "      dtype=object)"
      ]
     },
     "execution_count": 22,
     "metadata": {},
     "output_type": "execute_result"
    }
   ],
   "source": [
    "data"
   ]
  },
  {
   "cell_type": "code",
   "execution_count": 172,
   "metadata": {},
   "outputs": [],
   "source": [
    "df_final = pd.DataFrame()"
   ]
  },
  {
   "cell_type": "code",
   "execution_count": 173,
   "metadata": {},
   "outputs": [],
   "source": [
    "df_final['tweets'] = data"
   ]
  },
  {
   "cell_type": "code",
   "execution_count": 174,
   "metadata": {},
   "outputs": [
    {
     "data": {
      "text/html": [
       "<div>\n",
       "<style scoped>\n",
       "    .dataframe tbody tr th:only-of-type {\n",
       "        vertical-align: middle;\n",
       "    }\n",
       "\n",
       "    .dataframe tbody tr th {\n",
       "        vertical-align: top;\n",
       "    }\n",
       "\n",
       "    .dataframe thead th {\n",
       "        text-align: right;\n",
       "    }\n",
       "</style>\n",
       "<table border=\"1\" class=\"dataframe\">\n",
       "  <thead>\n",
       "    <tr style=\"text-align: right;\">\n",
       "      <th></th>\n",
       "      <th>tweets</th>\n",
       "    </tr>\n",
       "  </thead>\n",
       "  <tbody>\n",
       "    <tr>\n",
       "      <td>0</td>\n",
       "      <td>I said they are better than nothing, not that ...</td>\n",
       "    </tr>\n",
       "    <tr>\n",
       "      <td>1</td>\n",
       "      <td>Oops: CNN Forgot To Translate Its Latest Coron...</td>\n",
       "    </tr>\n",
       "    <tr>\n",
       "      <td>2</td>\n",
       "      <td>Speeding up https://twitter.com/ryanfiredragon...</td>\n",
       "    </tr>\n",
       "    <tr>\n",
       "      <td>3</td>\n",
       "      <td>Texas Gov. Greg Abbott, who routinely overrule...</td>\n",
       "    </tr>\n",
       "    <tr>\n",
       "      <td>4</td>\n",
       "      <td>Other than Satan, is there anyone more evil th...</td>\n",
       "    </tr>\n",
       "    <tr>\n",
       "      <td>...</td>\n",
       "      <td>...</td>\n",
       "    </tr>\n",
       "    <tr>\n",
       "      <td>57591</td>\n",
       "      <td>Self employed no coronavirus bailout  https://...</td>\n",
       "    </tr>\n",
       "    <tr>\n",
       "      <td>57592</td>\n",
       "      <td>Paris St-Germain have made a 100,000 euro (£91...</td>\n",
       "    </tr>\n",
       "    <tr>\n",
       "      <td>57593</td>\n",
       "      <td>Now that the Coronavirus Act is live, here are...</td>\n",
       "    </tr>\n",
       "    <tr>\n",
       "      <td>57594</td>\n",
       "      <td>Countries ranked for most cumulative cases of ...</td>\n",
       "    </tr>\n",
       "    <tr>\n",
       "      <td>57595</td>\n",
       "      <td>Coronavirus: How you can help Bay Area’s most ...</td>\n",
       "    </tr>\n",
       "  </tbody>\n",
       "</table>\n",
       "<p>57596 rows × 1 columns</p>\n",
       "</div>"
      ],
      "text/plain": [
       "                                                  tweets\n",
       "0      I said they are better than nothing, not that ...\n",
       "1      Oops: CNN Forgot To Translate Its Latest Coron...\n",
       "2      Speeding up https://twitter.com/ryanfiredragon...\n",
       "3      Texas Gov. Greg Abbott, who routinely overrule...\n",
       "4      Other than Satan, is there anyone more evil th...\n",
       "...                                                  ...\n",
       "57591  Self employed no coronavirus bailout  https://...\n",
       "57592  Paris St-Germain have made a 100,000 euro (£91...\n",
       "57593  Now that the Coronavirus Act is live, here are...\n",
       "57594  Countries ranked for most cumulative cases of ...\n",
       "57595  Coronavirus: How you can help Bay Area’s most ...\n",
       "\n",
       "[57596 rows x 1 columns]"
      ]
     },
     "execution_count": 174,
     "metadata": {},
     "output_type": "execute_result"
    }
   ],
   "source": [
    "df_final"
   ]
  },
  {
   "cell_type": "markdown",
   "metadata": {},
   "source": [
    "**The following removes tweets with [n] words or less.**"
   ]
  },
  {
   "cell_type": "code",
   "execution_count": 175,
   "metadata": {},
   "outputs": [],
   "source": [
    "types = []\n",
    "for i in data:\n",
    "    types.append(type(i))"
   ]
  },
  {
   "cell_type": "code",
   "execution_count": 176,
   "metadata": {},
   "outputs": [],
   "source": [
    "index = 0\n",
    "non_str = {}\n",
    "fake = []\n",
    "for i in data: \n",
    "    if type(i) != str:\n",
    "        non_str[index] = type(i)\n",
    "    index += 1"
   ]
  },
  {
   "cell_type": "code",
   "execution_count": 177,
   "metadata": {
    "scrolled": true
   },
   "outputs": [
    {
     "data": {
      "text/plain": [
       "{}"
      ]
     },
     "execution_count": 177,
     "metadata": {},
     "output_type": "execute_result"
    }
   ],
   "source": [
    "non_str"
   ]
  },
  {
   "cell_type": "code",
   "execution_count": 178,
   "metadata": {},
   "outputs": [],
   "source": [
    "for i in non_str:\n",
    "    data = np.delete(data, i)"
   ]
  },
  {
   "cell_type": "code",
   "execution_count": 179,
   "metadata": {
    "scrolled": true
   },
   "outputs": [
    {
     "data": {
      "text/plain": [
       "'Your president said that the coronavirus is a Chinese virus. Do you still want the Chinese people to like you in the United States?  Do you think anyone in the United States bullies?  Scolded us and smile at you Americans?  We are not China a century ago'"
      ]
     },
     "execution_count": 179,
     "metadata": {},
     "output_type": "execute_result"
    }
   ],
   "source": [
    "data[5665]"
   ]
  },
  {
   "cell_type": "code",
   "execution_count": 180,
   "metadata": {},
   "outputs": [
    {
     "data": {
      "text/plain": [
       "(57596,)"
      ]
     },
     "execution_count": 180,
     "metadata": {},
     "output_type": "execute_result"
    }
   ],
   "source": [
    "data.shape"
   ]
  },
  {
   "cell_type": "code",
   "execution_count": 29,
   "metadata": {},
   "outputs": [],
   "source": [
    "# ndata = []\n",
    "# for i in data:\n",
    "#     if len(i.split(' ')) > 6:\n",
    "#         ndata.append(i)"
   ]
  },
  {
   "cell_type": "code",
   "execution_count": 30,
   "metadata": {
    "scrolled": false
   },
   "outputs": [
    {
     "data": {
      "text/plain": [
       "(57596, 56310)"
      ]
     },
     "execution_count": 30,
     "metadata": {},
     "output_type": "execute_result"
    }
   ],
   "source": [
    "# len(data), len(ndata)"
   ]
  },
  {
   "cell_type": "code",
   "execution_count": null,
   "metadata": {},
   "outputs": [],
   "source": []
  },
  {
   "cell_type": "code",
   "execution_count": 181,
   "metadata": {},
   "outputs": [],
   "source": [
    "more = [\"news\",\"case\",\"make\",\"would\",\"death\",\"spread\",\"story\",\"still\",\"stop\",\"kill\",\"com\", \"twitter\",\"pic\",\"say\",\"https\"]\n",
    "more2 = [\"help\",\"work\",\"time\",\"new\",\"covid\",\"get\",\"test\",\"day\",\"http\",\"country\",\"good\",\"world\",\"may\",\"government\",\"pat\"]\n",
    "more3 = [\"due\",\"stay\",\"be\",\"report\",\"worker\",\"bill\",\"back\",\"first\",\"people\",\"corona\"]\n",
    "more4 = [\"go\",\"die\",\"take\",\"see\",\"know\",\"status\",\"call\",'Go','Say', 'www', 'many', 'see', 'make', 'want', 'be', 'could', \"s\", 'tell', 'today']\n",
    "more5 = ['Let', 'Be', 'case', 'make', 'also', 'let', 'coronavirus', 'Coronavirus', 'Corona', 'must', 'much', 'thing', 'keep', 'even']\n"
   ]
  },
  {
   "cell_type": "code",
   "execution_count": 182,
   "metadata": {},
   "outputs": [],
   "source": [
    "more.extend(more2)"
   ]
  },
  {
   "cell_type": "code",
   "execution_count": 183,
   "metadata": {},
   "outputs": [],
   "source": [
    "more.extend(more3)"
   ]
  },
  {
   "cell_type": "code",
   "execution_count": 184,
   "metadata": {},
   "outputs": [],
   "source": [
    "more.extend(more4)"
   ]
  },
  {
   "cell_type": "code",
   "execution_count": 185,
   "metadata": {},
   "outputs": [],
   "source": [
    "more.extend(more5)"
   ]
  },
  {
   "cell_type": "code",
   "execution_count": 186,
   "metadata": {},
   "outputs": [],
   "source": [
    "stop_words = stopwords.words('english')"
   ]
  },
  {
   "cell_type": "code",
   "execution_count": 187,
   "metadata": {
    "scrolled": false
   },
   "outputs": [
    {
     "data": {
      "text/plain": [
       "73"
      ]
     },
     "execution_count": 187,
     "metadata": {},
     "output_type": "execute_result"
    }
   ],
   "source": [
    "len(more)"
   ]
  },
  {
   "cell_type": "code",
   "execution_count": 188,
   "metadata": {},
   "outputs": [
    {
     "data": {
      "text/plain": [
       "179"
      ]
     },
     "execution_count": 188,
     "metadata": {},
     "output_type": "execute_result"
    }
   ],
   "source": [
    "len(stop_words)"
   ]
  },
  {
   "cell_type": "code",
   "execution_count": 189,
   "metadata": {},
   "outputs": [],
   "source": [
    "stop_words.extend(['from', 'subject', 're', 'edu', 'use'])"
   ]
  },
  {
   "cell_type": "code",
   "execution_count": 190,
   "metadata": {},
   "outputs": [],
   "source": [
    "stop_words.extend(more)"
   ]
  },
  {
   "cell_type": "code",
   "execution_count": 191,
   "metadata": {
    "scrolled": true
   },
   "outputs": [
    {
     "data": {
      "text/plain": [
       "257"
      ]
     },
     "execution_count": 191,
     "metadata": {},
     "output_type": "execute_result"
    }
   ],
   "source": [
    "len(stop_words)"
   ]
  },
  {
   "cell_type": "markdown",
   "metadata": {},
   "source": [
    "**The following returns the [id2word] dictionary, [texts] which is the lemmatized data, and [corpus] which is the corpus.**"
   ]
  },
  {
   "cell_type": "code",
   "execution_count": 192,
   "metadata": {
    "code_folding": []
   },
   "outputs": [],
   "source": [
    "def corpus_pipeline(data):  \n",
    "    # ********    THE FOLLOWING REGEXES SHOULD PROBABLY BE HEAVILY MODIFIED FOR CUSTOMIZING TWEETS CLEANING  *************\n",
    "    # Remove Emails\n",
    "    data = [re.sub('\\S*@\\S*\\s?', '', sent) for sent in data]\n",
    "\n",
    "    # Remove new line characters\n",
    "    data = [re.sub('\\s+', ' ', sent) for sent in data]\n",
    "\n",
    "    # Remove distracting single quotes\n",
    "    data = [re.sub(\"\\'\", \"\", sent) for sent in data]\n",
    "\n",
    "    def sent_to_words(sentences):\n",
    "        for sentence in sentences:\n",
    "            yield(gensim.utils.simple_preprocess(str(sentence), deacc=True))  # deacc=True removes punctuations\n",
    "\n",
    "    data_words = list(sent_to_words(data))\n",
    "\n",
    "    # Build the bigram and trigram models\n",
    "    bigram = gensim.models.Phrases(data_words, min_count=5, threshold=100) # higher threshold fewer phrases.\n",
    "    trigram = gensim.models.Phrases(bigram[data_words], threshold=100)  \n",
    "\n",
    "    # # Faster way to get a sentence clubbed as a trigram/bigram\n",
    "    bigram_mod = gensim.models.phrases.Phraser(bigram)\n",
    "    trigram_mod = gensim.models.phrases.Phraser(trigram)\n",
    "\n",
    "    # **********   ALSO PROBABLY REQUIRES EXTENSIVE ADDING OF TWEET-SPECIFIC STOPWORDS   ***********\n",
    "    # Define functions for stopwords, bigrams, trigrams and lemmatization\n",
    "    def remove_stopwords(texts):\n",
    "        return [[word for word in simple_preprocess(str(doc)) if word not in stop_words] for doc in texts]\n",
    "\n",
    "    def make_bigrams(texts):\n",
    "        return [bigram_mod[doc] for doc in texts]\n",
    "\n",
    "    def make_trigrams(texts):\n",
    "        return [trigram_mod[bigram_mod[doc]] for doc in texts]\n",
    "\n",
    "    def lemmatization(texts, allowed_postags=['NOUN', 'ADJ', 'VERB', 'ADV']):\n",
    "        \"\"\"https://spacy.io/api/annotation\"\"\"\n",
    "        texts_out = []\n",
    "        for sent in texts:\n",
    "            doc = nlp(\" \".join(sent)) \n",
    "            texts_out.append([token.lemma_ for token in doc if token.pos_ in allowed_postags])\n",
    "        return texts_out\n",
    "\n",
    "    # Remove Stop Words\n",
    "    data_words_nostops = remove_stopwords(data_words)\n",
    "\n",
    "    # Form Bigrams\n",
    "    data_words_bigrams = make_bigrams(data_words_nostops)\n",
    "    \n",
    "    data_words_trigrams = make_trigrams(data_words_bigrams)\n",
    "\n",
    "    # Initialize spacy 'en' model, keeping only tagger component (for efficiency)\n",
    "    # python3 -m spacy download en\n",
    "    nlp = spacy.load('en', disable=['parser', 'ner'])\n",
    "\n",
    "    # Do lemmatization keeping only noun, adj, vb, adv\n",
    "    data_lemmatized = lemmatization(data_words_trigrams, allowed_postags=['NOUN', 'ADJ', 'VERB', 'ADV'])\n",
    "\n",
    "    # Create Dictionary\n",
    "    id2word = corpora.Dictionary(data_lemmatized)\n",
    "\n",
    "    # Create Corpus\n",
    "    texts = data_lemmatized\n",
    "\n",
    "    # Term Document Frequency\n",
    "    corpus = [id2word.doc2bow(text) for text in texts]\n",
    "    \n",
    "    return id2word, texts, corpus"
   ]
  },
  {
   "cell_type": "markdown",
   "metadata": {},
   "source": [
    "# Pipeline for Dict, Texts, Corpus"
   ]
  },
  {
   "cell_type": "code",
   "execution_count": 193,
   "metadata": {},
   "outputs": [],
   "source": [
    "id2word, texts, corpus = corpus_pipeline(data)"
   ]
  },
  {
   "cell_type": "markdown",
   "metadata": {},
   "source": [
    "**The following makes many LDA (Latent Dirichlet Allocation models, from the gensim tutorial), but sometimes it randomly breaks and I don't know why, but the parameters take for more looking into to understand what's going on.**"
   ]
  },
  {
   "cell_type": "code",
   "execution_count": 40,
   "metadata": {
    "code_folding": [
     0
    ]
   },
   "outputs": [],
   "source": [
    "# def compute_coherence_values(dictionary, corpus, texts, limit, start=5, step=5): \n",
    "    \"\"\" Compute coherence values for various number of topics.\n",
    "    Parameters:\n",
    "        dictionary : Gensim dictionary\n",
    "        corpus : Gensim corpus\n",
    "        texts : List of input texts\n",
    "        limit : Max num of topics\n",
    "        start : Int of lowest number of topics to model\n",
    "        step : Int of increment to change number of topics to model\n",
    "    Returns:\n",
    "        model_list : List of LDA topic models\n",
    "        coherence_values : Coherence values corresponding to the LDA model with respective number of topics\n",
    "    \"\"\"\n",
    "    coherence_values = []\n",
    "    model_list = []\n",
    "    for num_topics in range(start, limit, step):\n",
    "        start=time.time()\n",
    "        model = gensim.models.ldamulticore.LdaMulticore(corpus=corpus,\n",
    "                                           id2word=id2word,\n",
    "                                           num_topics=num_topics, \n",
    "                                           random_state=100,\n",
    "                                           chunksize=1000,\n",
    "                                           passes=1,\n",
    "                                           per_word_topics=True)\n",
    "                                            \n",
    "        \n",
    "        print(f'Topic modeling for {num_topics} topics took {time.time()-start} seconds.')\n",
    "        model_list.append(model)\n",
    "        coherencemodel = CoherenceModel(model=model, texts=texts, dictionary=dictionary, coherence='c_v')\n",
    "        coherence_values.append(coherencemodel.get_coherence())\n",
    "\n",
    "    return model_list, coherence_values"
   ]
  },
  {
   "cell_type": "code",
   "execution_count": 49,
   "metadata": {},
   "outputs": [],
   "source": [
    "# strt = 12\n",
    "# lmt = 17\n",
    "# stp = 1"
   ]
  },
  {
   "cell_type": "code",
   "execution_count": null,
   "metadata": {
    "scrolled": true
   },
   "outputs": [
    {
     "name": "stdout",
     "output_type": "stream",
     "text": [
      "Topic modeling for 12 topics took 4.184603214263916 seconds.\n",
      "Topic modeling for 13 topics took 4.124147891998291 seconds.\n"
     ]
    }
   ],
   "source": [
    "# ml, cov = compute_coherence_values(id2word, corpus, texts, lmt, strt, stp)"
   ]
  },
  {
   "cell_type": "markdown",
   "metadata": {},
   "source": [
    "# Graphing and Visualizing the Modeled Topics (presumably, and ideally, distinct Twitter communites, such as those talking about government vs. domestic activity vs. memes vs. health advice"
   ]
  },
  {
   "cell_type": "code",
   "execution_count": 47,
   "metadata": {
    "code_folding": []
   },
   "outputs": [],
   "source": [
    "# def graph_coherence(coherence_values):\n",
    "#     \"\"\" Graph a list of coherence values to determine the optimal number of topics to model. \"\"\"\n",
    "#     limit=lmt; start=strt; step=stp;\n",
    "#     x = range(start, limit, step)\n",
    "#     plt.plot(x, coherence_values)\n",
    "#     plt.xlabel(\"Num Topics\")\n",
    "#     plt.ylabel(\"Coherence score\")\n",
    "#     plt.legend((\"coherence_values\"), loc='best')\n",
    "#     plt.show()\n",
    "    "
   ]
  },
  {
   "cell_type": "code",
   "execution_count": 48,
   "metadata": {
    "scrolled": true
   },
   "outputs": [
    {
     "data": {
      "image/png": "[encoded data removed]",
      "text/plain": [
       "<Figure size 432x288 with 1 Axes>"
      ]
     },
     "metadata": {
      "needs_background": "light"
     },
     "output_type": "display_data"
    }
   ],
   "source": [
    "# graph_coherence(cov)"
   ]
  },
  {
   "cell_type": "markdown",
   "metadata": {},
   "source": [
    "**In the following cells we can use the model with the highest coherence.**"
   ]
  },
  {
   "cell_type": "code",
   "execution_count": null,
   "metadata": {
    "scrolled": true
   },
   "outputs": [],
   "source": [
    "# ml[2] ## corresponds to the above model with 8 topics"
   ]
  },
  {
   "cell_type": "code",
   "execution_count": null,
   "metadata": {},
   "outputs": [],
   "source": [
    "# ml[-1]."
   ]
  },
  {
   "cell_type": "code",
   "execution_count": null,
   "metadata": {},
   "outputs": [],
   "source": [
    "# optimal_model = ml[-1]\n",
    "# model_topics = optimal_model.show_topics(formatted=False)\n",
    "# pprint(optimal_model.print_topics(num_words=10))"
   ]
  },
  {
   "cell_type": "code",
   "execution_count": null,
   "metadata": {},
   "outputs": [],
   "source": []
  },
  {
   "cell_type": "code",
   "execution_count": null,
   "metadata": {},
   "outputs": [],
   "source": [
    "# # Visualize the topics\n",
    "# pyLDAvis.enable_notebook()\n",
    "# vis = pyLDAvis.gensim.prepare(lda_model, corpus, id2word)\n",
    "# vis"
   ]
  },
  {
   "cell_type": "markdown",
   "metadata": {},
   "source": [
    "# LDA Model"
   ]
  },
  {
   "cell_type": "code",
   "execution_count": 194,
   "metadata": {},
   "outputs": [],
   "source": [
    "# Build LDA model\n",
    "lda_model = gensim.models.ldamodel.LdaModel(corpus=corpus,\n",
    "                                           id2word=id2word,\n",
    "                                           num_topics=6, \n",
    "                                           random_state=100,\n",
    "                                           update_every=1,\n",
    "                                           chunksize=100,\n",
    "                                           passes=10,\n",
    "                                           alpha='auto',\n",
    "                                           per_word_topics=True)"
   ]
  },
  {
   "cell_type": "code",
   "execution_count": 195,
   "metadata": {
    "scrolled": false
   },
   "outputs": [
    {
     "data": {
      "text/plain": [
       "[(0,\n",
       "  '0.033*\"say\" + 0.032*\"pandemic\" + 0.030*\"outbreak\" + 0.022*\"business\" + 0.019*\"response\" + 0.013*\"way\" + 0.013*\"html\" + 0.013*\"late\" + 0.012*\"order\" + 0.011*\"emergency\"'),\n",
       " (1,\n",
       "  '0.051*\"need\" + 0.036*\"crisis\" + 0.024*\"doctor\" + 0.022*\"event\" + 0.018*\"dlvr\" + 0.014*\"risk\" + 0.013*\"affect\" + 0.012*\"warn\" + 0.011*\"measure\" + 0.011*\"record\"'),\n",
       " (2,\n",
       "  '0.023*\"home\" + 0.019*\"get\" + 0.017*\"go\" + 0.017*\"article\" + 0.016*\"health\" + 0.015*\"sign\" + 0.014*\"be\" + 0.012*\"tackle\" + 0.012*\"boris_johnson_demand\" + 0.011*\"support\"'),\n",
       " (3,\n",
       "  '0.020*\"worker\" + 0.020*\"test\" + 0.018*\"economy\" + 0.016*\"show\" + 0.014*\"stimulus\" + 0.014*\"family\" + 0.014*\"money\" + 0.013*\"change\" + 0.011*\"mask\" + 0.011*\"well\"'),\n",
       " (4,\n",
       "  '0.056*\"virus\" + 0.019*\"case\" + 0.018*\"fight\" + 0.016*\"lockdown\" + 0.014*\"hospital\" + 0.013*\"patient\" + 0.013*\"come\" + 0.012*\"death\" + 0.012*\"state\" + 0.012*\"update\"'),\n",
       " (5,\n",
       "  '0.043*\"trump\" + 0.018*\"call\" + 0.017*\"thank\" + 0.017*\"right\" + 0.016*\"next\" + 0.016*\"job\" + 0.014*\"end\" + 0.014*\"face\" + 0.013*\"put\" + 0.013*\"hit\"')]"
      ]
     },
     "execution_count": 195,
     "metadata": {},
     "output_type": "execute_result"
    }
   ],
   "source": [
    "lda_model.show_topics()"
   ]
  },
  {
   "cell_type": "code",
   "execution_count": 90,
   "metadata": {},
   "outputs": [
    {
     "name": "stderr",
     "output_type": "stream",
     "text": [
      "/Users/braytonhall/opt/anaconda3/lib/python3.7/site-packages/pyLDAvis/_prepare.py:257: FutureWarning: Sorting because non-concatenation axis is not aligned. A future version\n",
      "of pandas will change to not sort by default.\n",
      "\n",
      "To accept the future behavior, pass 'sort=False'.\n",
      "\n",
      "To retain the current behavior and silence the warning, pass 'sort=True'.\n",
      "\n",
      "  return pd.concat([default_term_info] + list(topic_dfs))\n"
     ]
    },
    {
     "data": {
      "text/html": [
       "\n",
       "<link rel=\"stylesheet\" type=\"text/css\" href=\"https://cdn.rawgit.com/bmabey/pyLDAvis/files/ldavis.v1.0.0.css\">\n",
       "\n",
       "\n",
       "<div id=\"ldavis_el160291127774955044760926791\"></div>\n",
       "<script type=\"text/javascript\">\n",
       "\n",
       "var ldavis_el160291127774955044760926791_data = {\"mdsDat\": {\"x\": [-0.41841253820265756, 0.03226063647171794, 0.09412185444135132, 0.07275665059426814, 0.0554561577187338, 0.04726835827311683, 0.054268337868782025, 0.062280542834687494], \"y\": [-0.03175298172131884, 0.414270064585351, -0.11221841370041175, -0.0758981269419531, -0.026357836121635364, -0.05820072513645055, -0.06085869214623102, -0.048983288817350666], \"topics\": [1, 2, 3, 4, 5, 6, 7, 8], \"cluster\": [1, 1, 1, 1, 1, 1, 1, 1], \"Freq\": [16.626953125, 16.00619125366211, 14.21668815612793, 12.04006290435791, 11.758904457092285, 10.428045272827148, 9.491004943847656, 9.432157516479492]}, \"tinfo\": {\"Category\": [\"Default\", \"Default\", \"Default\", \"Default\", \"Default\", \"Default\", \"Default\", \"Default\", \"Default\", \"Default\", \"Default\", \"Default\", \"Default\", \"Default\", \"Default\", \"Default\", \"Default\", \"Default\", \"Default\", \"Default\", \"Default\", \"Default\", \"Default\", \"Default\", \"Default\", \"Default\", \"Default\", \"Default\", \"Default\", \"Default\", \"Topic1\", \"Topic1\", \"Topic1\", \"Topic1\", \"Topic1\", \"Topic1\", \"Topic1\", \"Topic1\", \"Topic1\", \"Topic1\", \"Topic1\", \"Topic1\", \"Topic1\", \"Topic1\", \"Topic1\", \"Topic1\", \"Topic1\", \"Topic1\", \"Topic1\", \"Topic1\", \"Topic1\", \"Topic1\", \"Topic1\", \"Topic1\", \"Topic1\", \"Topic1\", \"Topic1\", \"Topic1\", \"Topic1\", \"Topic1\", \"Topic2\", \"Topic2\", \"Topic2\", \"Topic2\", \"Topic2\", \"Topic2\", \"Topic2\", \"Topic2\", \"Topic2\", \"Topic2\", \"Topic2\", \"Topic2\", \"Topic2\", \"Topic2\", \"Topic2\", \"Topic2\", \"Topic2\", \"Topic2\", \"Topic2\", \"Topic2\", \"Topic2\", \"Topic2\", \"Topic2\", \"Topic2\", \"Topic2\", \"Topic2\", \"Topic2\", \"Topic2\", \"Topic2\", \"Topic2\", \"Topic3\", \"Topic3\", \"Topic3\", \"Topic3\", \"Topic3\", \"Topic3\", \"Topic3\", \"Topic3\", \"Topic3\", \"Topic3\", \"Topic3\", \"Topic3\", \"Topic3\", \"Topic3\", \"Topic3\", \"Topic3\", \"Topic3\", \"Topic3\", \"Topic3\", \"Topic3\", \"Topic3\", \"Topic3\", \"Topic3\", \"Topic3\", \"Topic3\", \"Topic3\", \"Topic3\", \"Topic3\", \"Topic3\", \"Topic3\", \"Topic4\", \"Topic4\", \"Topic4\", \"Topic4\", \"Topic4\", \"Topic4\", \"Topic4\", \"Topic4\", \"Topic4\", \"Topic4\", \"Topic4\", \"Topic4\", \"Topic4\", \"Topic4\", \"Topic4\", \"Topic4\", \"Topic4\", \"Topic4\", \"Topic4\", \"Topic4\", \"Topic4\", \"Topic4\", \"Topic4\", \"Topic4\", \"Topic4\", \"Topic4\", \"Topic4\", \"Topic4\", \"Topic4\", \"Topic4\", \"Topic5\", \"Topic5\", \"Topic5\", \"Topic5\", \"Topic5\", \"Topic5\", \"Topic5\", \"Topic5\", \"Topic5\", \"Topic5\", \"Topic5\", \"Topic5\", \"Topic5\", \"Topic5\", \"Topic5\", \"Topic5\", \"Topic5\", \"Topic5\", \"Topic5\", \"Topic5\", \"Topic5\", \"Topic5\", \"Topic5\", \"Topic5\", \"Topic5\", \"Topic5\", \"Topic5\", \"Topic5\", \"Topic5\", \"Topic5\", \"Topic6\", \"Topic6\", \"Topic6\", \"Topic6\", \"Topic6\", \"Topic6\", \"Topic6\", \"Topic6\", \"Topic6\", \"Topic6\", \"Topic6\", \"Topic6\", \"Topic6\", \"Topic6\", \"Topic6\", \"Topic6\", \"Topic6\", \"Topic6\", \"Topic6\", \"Topic6\", \"Topic6\", \"Topic6\", \"Topic6\", \"Topic6\", \"Topic6\", \"Topic6\", \"Topic6\", \"Topic6\", \"Topic6\", \"Topic6\", \"Topic7\", \"Topic7\", \"Topic7\", \"Topic7\", \"Topic7\", \"Topic7\", \"Topic7\", \"Topic7\", \"Topic7\", \"Topic7\", \"Topic7\", \"Topic7\", \"Topic7\", \"Topic7\", \"Topic7\", \"Topic7\", \"Topic7\", \"Topic7\", \"Topic7\", \"Topic7\", \"Topic7\", \"Topic7\", \"Topic7\", \"Topic7\", \"Topic7\", \"Topic7\", \"Topic7\", \"Topic7\", \"Topic7\", \"Topic7\", \"Topic8\", \"Topic8\", \"Topic8\", \"Topic8\", \"Topic8\", \"Topic8\", \"Topic8\", \"Topic8\", \"Topic8\", \"Topic8\", \"Topic8\", \"Topic8\", \"Topic8\", \"Topic8\", \"Topic8\", \"Topic8\", \"Topic8\", \"Topic8\", \"Topic8\", \"Topic8\", \"Topic8\", \"Topic8\", \"Topic8\", \"Topic8\", \"Topic8\", \"Topic8\", \"Topic8\", \"Topic8\", \"Topic8\", \"Topic8\", \"Topic8\"], \"Freq\": [6710.0, 2780.0, 2395.0, 2434.0, 2170.0, 2420.0, 2390.0, 2546.0, 1794.0, 2295.0, 2203.0, 1619.0, 1991.0, 1987.0, 1479.0, 1497.0, 1569.0, 1869.0, 1825.0, 1508.0, 1791.0, 1423.0, 1537.0, 1270.0, 1238.0, 1593.0, 1548.0, 1561.0, 1291.0, 1192.0, 2294.8271484375, 1868.6597900390625, 1824.940673828125, 1790.6346435546875, 1592.3238525390625, 1560.7310791015625, 1387.1705322265625, 1373.4385986328125, 1307.7374267578125, 1154.3961181640625, 1087.903564453125, 1080.8736572265625, 956.4298095703125, 901.8561401367188, 892.892822265625, 875.639892578125, 871.7190551757812, 834.68017578125, 818.712890625, 685.6947021484375, 594.9095458984375, 556.6478881835938, 527.7130737304688, 517.1242065429688, 513.0123901367188, 495.23712158203125, 494.5386962890625, 492.39202880859375, 486.9124450683594, 481.28143310546875, 2545.1572265625, 2202.3896484375, 1990.95361328125, 1986.823974609375, 1547.32958984375, 1312.244384765625, 1254.31640625, 1208.5208740234375, 1098.4869384765625, 1021.9882202148438, 993.8040161132812, 953.4314575195312, 928.8441772460938, 858.6433715820312, 839.7052001953125, 837.3117065429688, 766.3590087890625, 746.7180786132812, 674.5028686523438, 663.4894409179688, 655.6842651367188, 643.9176635742188, 616.7898559570312, 542.0123901367188, 532.8843383789062, 529.3765869140625, 515.8897705078125, 501.1838684082031, 487.7785949707031, 462.21075439453125, 6710.0048828125, 2419.2919921875, 2389.904296875, 1537.055419921875, 983.9534912109375, 809.7303466796875, 765.7098388671875, 717.6304321289062, 699.8847045898438, 694.5177001953125, 669.7853393554688, 643.6476440429688, 635.5747680664062, 601.9319458007812, 575.530029296875, 557.1395263671875, 530.5266723632812, 517.5528564453125, 500.6839294433594, 483.80596923828125, 477.29345703125, 466.43365478515625, 447.3539123535156, 444.8607177734375, 442.1560974121094, 436.3827209472656, 435.47021484375, 435.1650390625, 419.20684814453125, 401.7320861816406, 2779.2197265625, 1422.2484130859375, 1290.9228515625, 1236.2152099609375, 1007.0082397460938, 983.5128784179688, 981.6405639648438, 945.6846923828125, 916.977294921875, 906.392578125, 904.181640625, 855.3441772460938, 736.424560546875, 660.2534790039062, 651.093017578125, 588.6183471679688, 584.3108520507812, 574.6359252929688, 536.1950073242188, 531.2802734375, 492.25909423828125, 463.9606018066406, 463.8569030761719, 459.4417419433594, 453.0118103027344, 448.0750732421875, 443.8809509277344, 420.95245361328125, 416.947509765625, 394.4521179199219, 2433.94482421875, 1568.806396484375, 1507.50439453125, 1178.02294921875, 1162.5400390625, 951.4210815429688, 922.6802978515625, 891.8029174804688, 884.0437622070312, 732.6500854492188, 694.1473388671875, 687.0794067382812, 677.5263671875, 609.6282958984375, 609.4409790039062, 605.8709106445312, 589.7212524414062, 566.0156860351562, 539.5438232421875, 509.37469482421875, 475.68194580078125, 460.0958557128906, 392.1556091308594, 379.093505859375, 375.5028381347656, 370.1619873046875, 362.2264404296875, 355.60052490234375, 348.4599304199219, 346.92144775390625, 2395.088623046875, 2169.333984375, 1496.3350830078125, 1192.10107421875, 999.9950561523438, 947.4691772460938, 917.9223022460938, 899.5718383789062, 792.1149291992188, 741.1865234375, 738.0173950195312, 725.3743896484375, 710.8680419921875, 705.8140869140625, 684.72314453125, 669.6162109375, 620.6703491210938, 587.345458984375, 540.06689453125, 582.3706665039062, 495.1304626464844, 479.6438293457031, 468.93353271484375, 450.0466003417969, 409.2780456542969, 393.915771484375, 387.4015808105469, 380.5247802734375, 375.43719482421875, 358.25103759765625, 1269.6865234375, 1001.58154296875, 776.3826293945312, 759.42724609375, 757.9369506835938, 739.564697265625, 722.6893920898438, 658.6423950195312, 636.8595581054688, 566.5447387695312, 559.205810546875, 553.8806762695312, 543.1956787109375, 531.0181884765625, 522.1302490234375, 495.03460693359375, 471.85284423828125, 446.3370666503906, 418.06964111328125, 403.5271911621094, 391.3466491699219, 377.87890625, 378.18603515625, 373.532958984375, 360.3507080078125, 349.4483947753906, 338.903564453125, 330.7085876464844, 316.5751037597656, 307.5774230957031, 1793.8194580078125, 1618.143310546875, 1478.9564208984375, 1237.8416748046875, 1016.1820678710938, 1000.7774047851562, 896.7727661132812, 770.7254638671875, 743.1806030273438, 736.4542236328125, 733.7732543945312, 680.90869140625, 599.5674438476562, 587.4703369140625, 571.47216796875, 561.3417358398438, 548.9774780273438, 520.5000610351562, 496.16339111328125, 451.14715576171875, 403.7691650390625, 390.2294616699219, 381.15911865234375, 378.5422058105469, 356.60595703125, 349.51812744140625, 341.9593200683594, 327.6690368652344, 314.29840087890625, 300.4831848144531, 1136.3284912109375], \"Term\": [\"virus\", \"need\", \"say\", \"trump\", \"outbreak\", \"pandemic\", \"fight\", \"case\", \"health\", \"home\", \"crisis\", \"hospital\", \"article\", \"go\", \"sign\", \"doctor\", \"business\", \"get\", \"state\", \"patient\", \"lockdown\", \"death\", \"come\", \"response\", \"make\", \"worker\", \"think\", \"support\", \"give\", \"event\", \"home\", \"get\", \"state\", \"lockdown\", \"worker\", \"support\", \"risk\", \"be\", \"update\", \"test\", \"economy\", \"watch\", \"thank\", \"leave\", \"safe\", \"aid\", \"order\", \"family\", \"life\", \"really\", \"local\", \"year\", \"demand\", \"happen\", \"employee\", \"hope\", \"company\", \"good\", \"infect\", \"learn\", \"case\", \"crisis\", \"article\", \"go\", \"think\", \"live\", \"number\", \"way\", \"big\", \"take\", \"week\", \"work\", \"late\", \"pay\", \"find\", \"end\", \"hit\", \"global\", \"open\", \"warn\", \"confirm\", \"never\", \"online\", \"hour\", \"already\", \"economic\", \"bring\", \"want\", \"market\", \"novel\", \"virus\", \"pandemic\", \"fight\", \"come\", \"show\", \"positive\", \"country\", \"place\", \"well\", \"mask\", \"man\", \"child\", \"feel\", \"service\", \"together\", \"symptom\", \"have\", \"campaign\", \"cure\", \"run\", \"include\", \"less\", \"protect\", \"offer\", \"do\", \"step\", \"ventilator\", \"medical\", \"high\", \"post\", \"need\", \"death\", \"give\", \"tackle\", \"call\", \"fear\", \"die\", \"right\", \"job\", \"plan\", \"start\", \"stimulus\", \"food\", \"talk\", \"medium\", \"record\", \"chinese\", \"would\", \"great\", \"vote\", \"foxnews\", \"lead\", \"lack\", \"believe\", \"group\", \"lose\", \"recover\", \"combat\", \"important\", \"soon\", \"trump\", \"business\", \"patient\", \"put\", \"read\", \"dlvr\", \"html\", \"try\", \"affect\", \"report\", \"break\", \"claim\", \"link\", \"question\", \"infection\", \"washingtonpost\", \"cause\", \"send\", \"information\", \"unemployment\", \"mean\", \"fake\", \"time\", \"elderly\", \"policy\", \"always\", \"student\", \"opinion\", \"urge\", \"answer\", \"say\", \"outbreak\", \"doctor\", \"event\", \"day\", \"s\", \"next\", \"see\", \"politic\", \"close\", \"vulnerable\", \"can\", \"donate\", \"bad\", \"tell\", \"relief\", \"increase\", \"deal\", \"choice\", \"unemployment_claims_soar\", \"part\", \"buy\", \"help\", \"treat\", \"become\", \"daily\", \"million\", \"early\", \"create\", \"rise\", \"response\", \"video\", \"share\", \"emergency\", \"face\", \"ask\", \"nurse\", \"check\", \"thing\", \"measure\", \"blame\", \"continue\", \"spread\", \"issue\", \"save\", \"testing\", \"contractor\", \"real\", \"person\", \"grocery_worker\", \"community\", \"may\", \"act\", \"problem\", \"wait\", \"ad\", \"notice\", \"homeless\", \"cancel\", \"fail\", \"health\", \"hospital\", \"sign\", \"make\", \"money\", \"care\", \"petition\", \"month\", \"public\", \"change\", \"use\", \"look\", \"provide\", \"hand\", \"follow\", \"leader\", \"free\", \"impact\", \"lie\", \"staff\", \"top\", \"prepare\", \"official\", \"advice\", \"chng\", \"receive\", \"announce\", \"expert\", \"kill\", \"allow\", \"boris_johnson_demand\"], \"Total\": [6710.0, 2780.0, 2395.0, 2434.0, 2170.0, 2420.0, 2390.0, 2546.0, 1794.0, 2295.0, 2203.0, 1619.0, 1991.0, 1987.0, 1479.0, 1497.0, 1569.0, 1869.0, 1825.0, 1508.0, 1791.0, 1423.0, 1537.0, 1270.0, 1238.0, 1593.0, 1548.0, 1561.0, 1291.0, 1192.0, 2295.710693359375, 1869.543212890625, 1825.8243408203125, 1791.51806640625, 1593.20751953125, 1561.614990234375, 1388.054931640625, 1374.322021484375, 1308.620849609375, 1155.279541015625, 1088.7869873046875, 1081.757080078125, 957.3133544921875, 902.7401733398438, 893.7763671875, 876.52392578125, 872.6024780273438, 835.5635986328125, 819.5964965820312, 686.5781860351562, 595.7930908203125, 557.53125, 528.5968017578125, 518.0078125, 513.8958129882812, 496.1205139160156, 495.4222412109375, 493.2752685546875, 487.79571533203125, 482.164794921875, 2546.03662109375, 2203.269287109375, 1991.8330078125, 1987.703369140625, 1548.209228515625, 1313.1240234375, 1255.19580078125, 1209.4005126953125, 1099.3675537109375, 1022.8677978515625, 994.683349609375, 954.310791015625, 929.7235717773438, 859.522705078125, 840.5845336914062, 838.1909790039062, 767.2382202148438, 747.5972900390625, 675.3823852539062, 664.3690185546875, 656.5635375976562, 644.797607421875, 617.6693725585938, 542.8919067382812, 533.7640380859375, 530.255859375, 516.7691040039062, 502.0633239746094, 488.657958984375, 463.0902099609375, 6710.88232421875, 2420.169677734375, 2390.781982421875, 1537.9329833984375, 984.8311767578125, 810.6078491210938, 766.5882568359375, 718.5097045898438, 700.76220703125, 695.3954467773438, 670.6627197265625, 644.5259399414062, 636.4522705078125, 602.8098754882812, 576.4075317382812, 558.0169067382812, 531.404541015625, 518.4309692382812, 501.5614318847656, 484.683837890625, 478.1711730957031, 467.3112487792969, 448.2312316894531, 445.7383728027344, 443.0336608886719, 437.26031494140625, 436.3480224609375, 436.0426330566406, 420.0846252441406, 402.60968017578125, 2780.10107421875, 1423.1292724609375, 1291.803955078125, 1237.0965576171875, 1007.8892822265625, 984.3942260742188, 982.5215454101562, 946.5659790039062, 917.858642578125, 907.2737426757812, 905.0629272460938, 856.2254638671875, 737.305908203125, 661.135009765625, 651.9741821289062, 589.4998168945312, 585.19189453125, 575.5181274414062, 537.076171875, 532.1614379882812, 493.1402587890625, 464.8421325683594, 464.73956298828125, 460.3232116699219, 453.8938903808594, 448.9561462402344, 444.7624206542969, 421.83380126953125, 417.828857421875, 395.3334655761719, 2434.828369140625, 1569.68994140625, 1508.387939453125, 1178.9073486328125, 1163.42431640625, 952.3052368164062, 923.5640258789062, 892.6865234375, 884.9280395507812, 733.5338134765625, 695.0311889648438, 687.9630737304688, 678.410888671875, 610.5120239257812, 610.3245239257812, 606.7553100585938, 590.6050415039062, 566.8991088867188, 540.427734375, 510.2582092285156, 476.5657958984375, 460.9810791015625, 393.0393981933594, 379.98016357421875, 376.3866882324219, 371.04608154296875, 363.110107421875, 356.4841613769531, 349.3439636230469, 347.8050537109375, 2395.969970703125, 2170.215087890625, 1497.217041015625, 1192.982177734375, 1000.8764038085938, 948.3507690429688, 918.8040161132812, 900.4535522460938, 792.9964599609375, 742.0679931640625, 738.9005126953125, 726.2559204101562, 711.74951171875, 706.6952514648438, 685.604736328125, 670.4974365234375, 621.552001953125, 588.2268676757812, 540.95556640625, 583.3670043945312, 496.0118408203125, 480.5252380371094, 469.8150939941406, 450.92767333984375, 410.1593933105469, 394.79718017578125, 388.2837219238281, 381.4064025878906, 376.3187255859375, 359.1322021484375, 1270.5745849609375, 1002.4700927734375, 777.2708740234375, 760.3155517578125, 758.8250732421875, 740.4533081054688, 723.5775146484375, 659.5303344726562, 637.7478637695312, 567.4331665039062, 560.095703125, 554.7689819335938, 544.083740234375, 531.9065551757812, 523.0184326171875, 495.9231262207031, 472.7721252441406, 447.2255859375, 418.9579772949219, 404.4346618652344, 392.23468017578125, 378.7671813964844, 379.0755920410156, 374.4212341308594, 361.23907470703125, 350.33648681640625, 339.79400634765625, 331.600830078125, 317.4638977050781, 308.4656066894531, 1794.7066650390625, 1619.0303955078125, 1479.8431396484375, 1238.7291259765625, 1017.069580078125, 1001.6643676757812, 897.6593627929688, 771.6124267578125, 744.0678100585938, 737.341552734375, 734.6605834960938, 681.7957153320312, 600.455078125, 588.3574829101562, 572.3593139648438, 562.2288208007812, 549.8642578125, 521.386962890625, 497.05023193359375, 452.03424072265625, 404.6560974121094, 391.11700439453125, 382.04595947265625, 379.4291076660156, 357.492431640625, 350.4055480957031, 342.8465881347656, 328.5558166503906, 315.1854248046875, 301.3708190917969, 1143.7034912109375], \"loglift\": [30.0, 29.0, 28.0, 27.0, 26.0, 25.0, 24.0, 23.0, 22.0, 21.0, 20.0, 19.0, 18.0, 17.0, 16.0, 15.0, 14.0, 13.0, 12.0, 11.0, 10.0, 9.0, 8.0, 7.0, 6.0, 5.0, 4.0, 3.0, 2.0, 1.0, 1.7937999963760376, 1.7936999797821045, 1.7936999797821045, 1.7936999797821045, 1.7935999631881714, 1.7935999631881714, 1.7934999465942383, 1.7934999465942383, 1.7934999465942383, 1.7934000492095947, 1.7933000326156616, 1.7933000326156616, 1.7932000160217285, 1.7932000160217285, 1.7932000160217285, 1.7930999994277954, 1.7930999994277954, 1.7930999994277954, 1.7930999994277954, 1.7928999662399292, 1.7927000522613525, 1.7926000356674194, 1.7925000190734863, 1.7924000024795532, 1.7924000024795532, 1.7924000024795532, 1.7924000024795532, 1.7924000024795532, 1.7922999858856201, 1.7922999858856201, 1.8317999839782715, 1.8317999839782715, 1.8317999839782715, 1.8317999839782715, 1.8315999507904053, 1.8315000534057617, 1.8315000534057617, 1.8315000534057617, 1.8314000368118286, 1.8313000202178955, 1.8313000202178955, 1.8313000202178955, 1.8312000036239624, 1.8312000036239624, 1.8310999870300293, 1.8310999870300293, 1.8309999704360962, 1.8309999704360962, 1.830899953842163, 1.830899953842163, 1.830899953842163, 1.8308000564575195, 1.8308000564575195, 1.8306000232696533, 1.8305000066757202, 1.8305000066757202, 1.8305000066757202, 1.830399990081787, 1.830399990081787, 1.830299973487854, 1.950600028038025, 1.9503999948501587, 1.9503999948501587, 1.9501999616622925, 1.9499000310897827, 1.9496999979019165, 1.9495999813079834, 1.9494999647140503, 1.9494999647140503, 1.9494999647140503, 1.9493999481201172, 1.9493999481201172, 1.9493999481201172, 1.9493000507354736, 1.9492000341415405, 1.9492000341415405, 1.9491000175476074, 1.9491000175476074, 1.9490000009536743, 1.9488999843597412, 1.9488999843597412, 1.9488999843597412, 1.948799967765808, 1.948799967765808, 1.948799967765808, 1.948699951171875, 1.948699951171875, 1.948699951171875, 1.948699951171875, 1.9486000537872314, 2.1166000366210938, 2.116300106048584, 2.1161999702453613, 2.1161999702453613, 2.1161000728607178, 2.115999937057495, 2.115999937057495, 2.115999937057495, 2.115999937057495, 2.115999937057495, 2.115999937057495, 2.1159000396728516, 2.1157000064849854, 2.115600109100342, 2.115600109100342, 2.1154000759124756, 2.1154000759124756, 2.1154000759124756, 2.115299940109253, 2.115299940109253, 2.1150999069213867, 2.115000009536743, 2.115000009536743, 2.115000009536743, 2.115000009536743, 2.115000009536743, 2.1149001121520996, 2.114799976348877, 2.114799976348877, 2.1147000789642334, 2.140199899673462, 2.140000104904175, 2.140000104904175, 2.1398000717163086, 2.1398000717163086, 2.1396000385284424, 2.1396000385284424, 2.1396000385284424, 2.1396000385284424, 2.139400005340576, 2.1393001079559326, 2.1393001079559326, 2.1393001079559326, 2.1391000747680664, 2.1391000747680664, 2.1391000747680664, 2.1391000747680664, 2.1389999389648438, 2.1389000415802, 2.1387999057769775, 2.138700008392334, 2.1386001110076904, 2.1382999420166016, 2.138200044631958, 2.138200044631958, 2.138200044631958, 2.1380999088287354, 2.1380999088287354, 2.138000011444092, 2.138000011444092, 2.2602999210357666, 2.2602999210357666, 2.2600998878479004, 2.2599000930786133, 2.2597999572753906, 2.259700059890747, 2.259700059890747, 2.259700059890747, 2.2595999240875244, 2.259500026702881, 2.259500026702881, 2.259500026702881, 2.259399890899658, 2.259399890899658, 2.259399890899658, 2.259399890899658, 2.2592999935150146, 2.259200096130371, 2.259000062942505, 2.259000062942505, 2.2588999271392822, 2.2588000297546387, 2.2588000297546387, 2.258699893951416, 2.258500099182129, 2.2583999633789062, 2.2583999633789062, 2.2583999633789062, 2.2583000659942627, 2.25819993019104, 2.354099988937378, 2.3538999557495117, 2.3536999225616455, 2.3536999225616455, 2.3536999225616455, 2.353600025177002, 2.353600025177002, 2.3534998893737793, 2.3533999919891357, 2.353300094604492, 2.3531999588012695, 2.3531999588012695, 2.3531999588012695, 2.3531999588012695, 2.353100061416626, 2.3529999256134033, 2.3529000282287598, 2.352799892425537, 2.3526999950408936, 2.35260009765625, 2.35260009765625, 2.3524999618530273, 2.3524999618530273, 2.3524999618530273, 2.352400064468384, 2.352299928665161, 2.3522000312805176, 2.352099895477295, 2.3519999980926514, 2.351900100708008, 2.360599994659424, 2.3605000972747803, 2.3603999614715576, 2.360300064086914, 2.3601999282836914, 2.3601999282836914, 2.360100030899048, 2.3598999977111816, 2.3598999977111816, 2.359800100326538, 2.359800100326538, 2.3596999645233154, 2.359600067138672, 2.359499931335449, 2.359499931335449, 2.359499931335449, 2.3594000339508057, 2.359299898147583, 2.359299898147583, 2.359100103378296, 2.3589000701904297, 2.358799934387207, 2.3587000370025635, 2.3587000370025635, 2.358599901199341, 2.3585000038146973, 2.3585000038146973, 2.358299970626831, 2.3582000732421875, 2.358099937438965, 2.354599952697754], \"logprob\": [30.0, 29.0, 28.0, 27.0, 26.0, 25.0, 24.0, 23.0, 22.0, 21.0, 20.0, 19.0, 18.0, 17.0, 16.0, 15.0, 14.0, 13.0, 12.0, 11.0, 10.0, 9.0, 8.0, 7.0, 6.0, 5.0, 4.0, 3.0, 2.0, 1.0, -3.514699935913086, -3.720099925994873, -3.743799924850464, -3.7627999782562256, -3.8801000118255615, -3.9001998901367188, -4.018099784851074, -4.0279998779296875, -4.077000141143799, -4.2017998695373535, -4.261099815368652, -4.267600059509277, -4.389900207519531, -4.448599815368652, -4.458600044250488, -4.478099822998047, -4.482600212097168, -4.526000022888184, -4.545400142669678, -4.722700119018555, -4.864699840545654, -4.93120002746582, -4.984499931335449, -5.004799842834473, -5.012800216674805, -5.047999858856201, -5.049499988555908, -5.053800106048584, -5.065000057220459, -5.076600074768066, -3.3731000423431396, -3.517699956893921, -3.6187000274658203, -3.620699882507324, -3.870699882507324, -4.0355000495910645, -4.080699920654297, -4.1178998947143555, -4.2133002281188965, -4.2855000495910645, -4.313499927520752, -4.355000019073486, -4.381100177764893, -4.459700107574463, -4.48199987411499, -4.484799861907959, -4.573400020599365, -4.599299907684326, -4.701099872589111, -4.71750020980835, -4.729400157928467, -4.747499942779541, -4.790500164031982, -4.9197001457214355, -4.936699867248535, -4.943299770355225, -4.969099998474121, -4.9980998039245605, -5.025199890136719, -5.078999996185303, -2.285099983215332, -3.3052000999450684, -3.317500114440918, -3.7588999271392822, -4.204899787902832, -4.399799823760986, -4.455699920654297, -4.520500183105469, -4.545599937438965, -4.553299903869629, -4.5894999504089355, -4.629300117492676, -4.641900062561035, -4.696300029754639, -4.741199970245361, -4.77370023727417, -4.8225998878479, -4.847400188446045, -4.880499839782715, -4.91480016708374, -4.928299903869629, -4.951399803161621, -4.993100166320801, -4.998700141906738, -5.004799842834473, -5.01800012588501, -5.019999980926514, -5.0208001136779785, -5.05810022354126, -5.1006999015808105, -3.0004000663757324, -3.670300006866455, -3.767199993133545, -3.810499906539917, -4.015600204467773, -4.0391998291015625, -4.041100025177002, -4.078400135040283, -4.1092000007629395, -4.120800018310547, -4.123300075531006, -4.178800106048584, -4.328499794006348, -4.437699794769287, -4.451600074768066, -4.552499771118164, -4.559899806976318, -4.576600074768066, -4.6458001136779785, -4.65500020980835, -4.731299877166748, -4.790500164031982, -4.7906999588012695, -4.800300121307373, -4.8144001960754395, -4.825300216674805, -4.834700107574463, -4.887800216674805, -4.897299766540527, -4.9527997970581055, -3.1094000339508057, -3.5485999584198, -3.5885000228881836, -3.835099935531616, -3.848299980163574, -4.048699855804443, -4.079400062561035, -4.113399982452393, -4.122200012207031, -4.309999942779541, -4.363999843597412, -4.374199867248535, -4.388199806213379, -4.493800163269043, -4.494100093841553, -4.5, -4.5269999504089355, -4.567999839782715, -4.615900039672852, -4.673500061035156, -4.7418999671936035, -4.775199890136719, -4.934999942779541, -4.968900203704834, -4.978400230407715, -4.992700099945068, -5.014400005340576, -5.032899856567383, -5.053100109100342, -5.057600021362305, -3.0053999423980713, -3.1043999195098877, -3.475800037384033, -3.7030999660491943, -3.8787999153137207, -3.932800054550171, -3.964400053024292, -3.984600067138672, -4.1118998527526855, -4.178299903869629, -4.182600021362305, -4.199900150299072, -4.220099925994873, -4.227200031280518, -4.257500171661377, -4.279900074005127, -4.355800151824951, -4.410900115966797, -4.494900226593018, -4.41949987411499, -4.581699848175049, -4.613500118255615, -4.636099815368652, -4.677199840545654, -4.772200107574463, -4.810400009155273, -4.827099800109863, -4.84499979019165, -4.858500003814697, -4.905300140380859, -3.5459001064300537, -3.783099889755249, -4.037799835205078, -4.059800148010254, -4.061800003051758, -4.086299896240234, -4.109399795532227, -4.202199935913086, -4.235899925231934, -4.352799892425537, -4.365900039672852, -4.375500202178955, -4.394899845123291, -4.417600154876709, -4.434500217437744, -4.487800121307373, -4.535699844360352, -4.591300010681152, -4.656799793243408, -4.692200183868408, -4.722799777984619, -4.757800102233887, -4.756999969482422, -4.769400119781494, -4.805300235748291, -4.835999965667725, -4.866700172424316, -4.891200065612793, -4.934800148010254, -4.963699817657471, -3.1940999031066895, -3.297100067138672, -3.3870999813079834, -3.5650999546051025, -3.762399911880493, -3.7776999473571777, -3.887399911880493, -4.038899898529053, -4.075200080871582, -4.0843000411987305, -4.0879998207092285, -4.162799835205078, -4.289999961853027, -4.310400009155273, -4.3379998207092285, -4.355899810791016, -4.3780999183654785, -4.431399822235107, -4.479300022125244, -4.574399948120117, -4.685299873352051, -4.719399929046631, -4.743000030517578, -4.749899864196777, -4.809599876403809, -4.829599857330322, -4.851500034332275, -4.894199848175049, -4.935800075531006, -4.980800151824951, -3.650599956512451]}, \"token.table\": {\"Topic\": [7, 7, 8, 5, 1, 8, 2, 5, 8, 5, 2, 7, 6, 1, 6, 4, 2, 7, 4, 8, 5, 2, 5, 6, 4, 3, 6, 7, 8, 2, 5, 8, 7, 3, 4, 8, 6, 5, 6, 4, 3, 7, 1, 2, 7, 7, 3, 6, 2, 3, 6, 6, 6, 4, 1, 4, 5, 3, 6, 6, 6, 2, 1, 5, 7, 1, 2, 6, 8, 7, 7, 5, 1, 4, 3, 3, 2, 8, 4, 4, 8, 1, 4, 2, 2, 1, 4, 7, 4, 8, 1, 3, 8, 6, 3, 2, 1, 7, 1, 8, 2, 5, 8, 4, 3, 6, 1, 5, 5, 7, 4, 8, 4, 2, 4, 8, 1, 1, 3, 8, 1, 5, 2, 1, 1, 8, 4, 8, 3, 2, 3, 7, 5, 7, 3, 4, 6, 8, 8, 4, 2, 6, 7, 2, 2, 7, 3, 8, 2, 2, 5, 1, 6, 3, 6, 5, 2, 7, 8, 3, 4, 5, 6, 3, 3, 8, 7, 3, 8, 8, 5, 5, 5, 7, 1, 8, 4, 4, 6, 5, 7, 4, 6, 1, 3, 6, 1, 7, 6, 6, 5, 3, 7, 3, 8, 4, 7, 8, 4, 1, 3, 4, 5, 1, 3, 4, 2, 4, 6, 1, 7, 1, 7, 2, 5, 3, 8, 6, 5, 5, 5, 6, 1, 5, 8, 3, 7, 3, 4, 6, 7, 2, 2, 5, 1, 2, 2, 3, 2, 1, 4, 1], \"Freq\": [0.9971625804901123, 0.9961851239204407, 0.9988690614700317, 0.998951256275177, 0.9994022846221924, 0.9954513907432556, 0.998568594455719, 0.997180700302124, 0.9975306987762451, 0.9976853132247925, 0.9995818138122559, 0.999387800693512, 0.9990161657333374, 0.99903804063797, 0.9971733093261719, 0.9971254467964172, 0.9987560510635376, 0.9980437159538269, 0.005246114917099476, 0.9932644367218018, 0.998516321182251, 0.9985117316246033, 0.9995604753494263, 0.9989069700241089, 0.9991176724433899, 0.9991686940193176, 0.9982706904411316, 0.9985387325286865, 0.9993367195129395, 0.9995928406715393, 0.9989755749702454, 0.9981805682182312, 0.9991958737373352, 0.9991840124130249, 0.9979632496833801, 0.9986225366592407, 0.9982335567474365, 0.9986001253128052, 0.9985607862472534, 0.9980233907699585, 0.9993933439254761, 0.9968522191047668, 0.9991477131843567, 0.9991416931152344, 0.9986138939857483, 0.9983668327331543, 0.9992326498031616, 0.9964957237243652, 0.9994239211082458, 0.9988806247711182, 0.9979807734489441, 0.9991243481636047, 0.9979143142700195, 0.9992064833641052, 0.9988709688186646, 0.9994691610336304, 0.9986293911933899, 0.9976668357849121, 0.9991871118545532, 0.9989469647407532, 0.9989344477653503, 0.9976316094398499, 0.9992771744728088, 0.9974204897880554, 0.9982697367668152, 0.9982568025588989, 0.9985790848731995, 0.9991766810417175, 0.9983083009719849, 0.9989126920700073, 0.998490571975708, 0.9978717565536499, 0.9993255138397217, 0.9995995163917542, 0.9992893934249878, 0.9996728897094727, 0.9993045926094055, 0.9976250529289246, 0.9982287883758545, 0.9976877570152283, 0.998428225517273, 0.99970942735672, 0.9993776679039001, 0.9992010593414307, 0.9996461272239685, 0.9974147081375122, 0.9979962110519409, 0.9989252686500549, 0.9980306029319763, 0.9976927638053894, 0.9980544447898865, 0.9992387294769287, 0.9996062517166138, 0.9982650876045227, 0.9974181056022644, 0.9983861446380615, 0.9996904134750366, 0.9981880784034729, 0.9977414608001709, 0.9993636012077332, 0.9983571171760559, 0.9993892908096313, 0.9992578029632568, 0.9980162978172302, 0.9975507259368896, 0.9991118907928467, 0.9983687400817871, 0.997829794883728, 0.9992085099220276, 0.9982956647872925, 0.9990645051002502, 0.9962389469146729, 0.9984086751937866, 0.9992217421531677, 0.9981883764266968, 0.9978143572807312, 0.9975842237472534, 0.9991800785064697, 0.9971940517425537, 0.9978870749473572, 0.9992722272872925, 0.9993943572044373, 0.9991440176963806, 0.9986688494682312, 0.9997107982635498, 0.9988329410552979, 0.9978702664375305, 0.999411404132843, 0.9990118145942688, 0.9986535310745239, 0.999431312084198, 0.9979745149612427, 0.998812735080719, 0.9992366433143616, 0.9976089000701904, 0.9985057711601257, 0.9966938495635986, 0.9989483952522278, 0.9992063045501709, 0.9996039271354675, 0.9987630248069763, 0.9991249442100525, 0.9976632595062256, 0.9976457953453064, 0.9990473389625549, 0.9992018342018127, 0.9983434677124023, 0.9972622394561768, 0.9989162683486938, 0.9994338154792786, 0.998641848564148, 0.9993095397949219, 0.9994401335716248, 0.9995167255401611, 0.9979600310325623, 0.9997428059577942, 0.9993918538093567, 0.9977134466171265, 0.9992654919624329, 0.9992905855178833, 0.9985960721969604, 0.9989726543426514, 0.9987434148788452, 0.9992501139640808, 0.9984856843948364, 0.9971440434455872, 0.9988749623298645, 0.9972531199455261, 0.9992421269416809, 0.9985648989677429, 0.9992303252220154, 0.9991613030433655, 0.9996352791786194, 0.9972595572471619, 0.9991578459739685, 0.9988426566123962, 0.9991521239280701, 0.9982857704162598, 0.9992581009864807, 0.9992722868919373, 0.9995477795600891, 0.9994020462036133, 0.99684739112854, 0.999239981174469, 0.9985890984535217, 0.9985756874084473, 0.9991313815116882, 0.9980527758598328, 0.9995951652526855, 0.9994962811470032, 0.9984139800071716, 0.9986565113067627, 0.9983649253845215, 0.9991559982299805, 0.999430239200592, 0.9966269731521606, 0.998008131980896, 0.9977120161056519, 0.9988255500793457, 0.9995484948158264, 0.9971176981925964, 0.9985687732696533, 0.9969427585601807, 0.999606192111969, 0.9981776475906372, 0.9991136193275452, 0.9991515874862671, 0.9982832670211792, 0.9991179704666138, 0.9988924264907837, 0.9981385469436646, 0.9986280798912048, 0.998827338218689, 0.9992189407348633, 0.9973554611206055, 0.9992929697036743, 0.9983786344528198, 0.9979427456855774, 0.9996597766876221, 0.9992309212684631, 0.9975341558456421, 0.9976567029953003, 0.9995255470275879, 0.9961528778076172, 0.9991008043289185, 0.9969106912612915, 0.999531090259552, 0.9998685121536255, 0.9978175163269043, 0.9987812638282776, 0.9965699315071106, 0.997882068157196, 0.9979393482208252, 0.998755156993866, 0.9993001222610474, 0.9996688365936279, 0.9993129968643188, 0.9989123344421387, 0.9986264705657959, 0.9992420673370361, 0.9990997314453125, 0.9990471601486206], \"Term\": [\"act\", \"ad\", \"advice\", \"affect\", \"aid\", \"allow\", \"already\", \"always\", \"announce\", \"answer\", \"article\", \"ask\", \"bad\", \"be\", \"become\", \"believe\", \"big\", \"blame\", \"boris_johnson_demand\", \"boris_johnson_demand\", \"break\", \"bring\", \"business\", \"buy\", \"call\", \"campaign\", \"can\", \"cancel\", \"care\", \"case\", \"cause\", \"change\", \"check\", \"child\", \"chinese\", \"chng\", \"choice\", \"claim\", \"close\", \"combat\", \"come\", \"community\", \"company\", \"confirm\", \"continue\", \"contractor\", \"country\", \"create\", \"crisis\", \"cure\", \"daily\", \"day\", \"deal\", \"death\", \"demand\", \"die\", \"dlvr\", \"do\", \"doctor\", \"donate\", \"early\", \"economic\", \"economy\", \"elderly\", \"emergency\", \"employee\", \"end\", \"event\", \"expert\", \"face\", \"fail\", \"fake\", \"family\", \"fear\", \"feel\", \"fight\", \"find\", \"follow\", \"food\", \"foxnews\", \"free\", \"get\", \"give\", \"global\", \"go\", \"good\", \"great\", \"grocery_worker\", \"group\", \"hand\", \"happen\", \"have\", \"health\", \"help\", \"high\", \"hit\", \"home\", \"homeless\", \"hope\", \"hospital\", \"hour\", \"html\", \"impact\", \"important\", \"include\", \"increase\", \"infect\", \"infection\", \"information\", \"issue\", \"job\", \"kill\", \"lack\", \"late\", \"lead\", \"leader\", \"learn\", \"leave\", \"less\", \"lie\", \"life\", \"link\", \"live\", \"local\", \"lockdown\", \"look\", \"lose\", \"make\", \"man\", \"market\", \"mask\", \"may\", \"mean\", \"measure\", \"medical\", \"medium\", \"million\", \"money\", \"month\", \"need\", \"never\", \"next\", \"notice\", \"novel\", \"number\", \"nurse\", \"offer\", \"official\", \"online\", \"open\", \"opinion\", \"order\", \"outbreak\", \"pandemic\", \"part\", \"patient\", \"pay\", \"person\", \"petition\", \"place\", \"plan\", \"policy\", \"politic\", \"positive\", \"post\", \"prepare\", \"problem\", \"protect\", \"provide\", \"public\", \"put\", \"question\", \"read\", \"real\", \"really\", \"receive\", \"record\", \"recover\", \"relief\", \"report\", \"response\", \"right\", \"rise\", \"risk\", \"run\", \"s\", \"safe\", \"save\", \"say\", \"see\", \"send\", \"service\", \"share\", \"show\", \"sign\", \"soon\", \"spread\", \"staff\", \"start\", \"state\", \"step\", \"stimulus\", \"student\", \"support\", \"symptom\", \"tackle\", \"take\", \"talk\", \"tell\", \"test\", \"testing\", \"thank\", \"thing\", \"think\", \"time\", \"together\", \"top\", \"treat\", \"trump\", \"try\", \"unemployment\", \"unemployment_claims_soar\", \"update\", \"urge\", \"use\", \"ventilator\", \"video\", \"virus\", \"vote\", \"vulnerable\", \"wait\", \"want\", \"warn\", \"washingtonpost\", \"watch\", \"way\", \"week\", \"well\", \"work\", \"worker\", \"would\", \"year\"]}, \"R\": 30, \"lambda.step\": 0.01, \"plot.opts\": {\"xlab\": \"PC1\", \"ylab\": \"PC2\"}, \"topic.order\": [2, 7, 4, 6, 8, 1, 5, 3]};\n",
       "\n",
       "function LDAvis_load_lib(url, callback){\n",
       "  var s = document.createElement('script');\n",
       "  s.src = url;\n",
       "  s.async = true;\n",
       "  s.onreadystatechange = s.onload = callback;\n",
       "  s.onerror = function(){console.warn(\"failed to load library \" + url);};\n",
       "  document.getElementsByTagName(\"head\")[0].appendChild(s);\n",
       "}\n",
       "\n",
       "if(typeof(LDAvis) !== \"undefined\"){\n",
       "   // already loaded: just create the visualization\n",
       "   !function(LDAvis){\n",
       "       new LDAvis(\"#\" + \"ldavis_el160291127774955044760926791\", ldavis_el160291127774955044760926791_data);\n",
       "   }(LDAvis);\n",
       "}else if(typeof define === \"function\" && define.amd){\n",
       "   // require.js is available: use it to load d3/LDAvis\n",
       "   require.config({paths: {d3: \"https://cdnjs.cloudflare.com/ajax/libs/d3/3.5.5/d3.min\"}});\n",
       "   require([\"d3\"], function(d3){\n",
       "      window.d3 = d3;\n",
       "      LDAvis_load_lib(\"https://cdn.rawgit.com/bmabey/pyLDAvis/files/ldavis.v1.0.0.js\", function(){\n",
       "        new LDAvis(\"#\" + \"ldavis_el160291127774955044760926791\", ldavis_el160291127774955044760926791_data);\n",
       "      });\n",
       "    });\n",
       "}else{\n",
       "    // require.js not available: dynamically load d3 & LDAvis\n",
       "    LDAvis_load_lib(\"https://cdnjs.cloudflare.com/ajax/libs/d3/3.5.5/d3.min.js\", function(){\n",
       "         LDAvis_load_lib(\"https://cdn.rawgit.com/bmabey/pyLDAvis/files/ldavis.v1.0.0.js\", function(){\n",
       "                 new LDAvis(\"#\" + \"ldavis_el160291127774955044760926791\", ldavis_el160291127774955044760926791_data);\n",
       "            })\n",
       "         });\n",
       "}\n",
       "</script>"
      ],
      "text/plain": [
       "PreparedData(topic_coordinates=              x         y  topics  cluster       Freq\n",
       "topic                                                \n",
       "1     -0.418413 -0.031753       1        1  16.626953\n",
       "6      0.032261  0.414270       2        1  16.006191\n",
       "3      0.094122 -0.112218       3        1  14.216688\n",
       "5      0.072757 -0.075898       4        1  12.040063\n",
       "7      0.055456 -0.026358       5        1  11.758904\n",
       "0      0.047268 -0.058201       6        1  10.428045\n",
       "4      0.054268 -0.060859       7        1   9.491005\n",
       "2      0.062281 -0.048983       8        1   9.432158, topic_info=      Category         Freq                  Term        Total  loglift  \\\n",
       "75     Default  6710.000000                 virus  6710.000000  30.0000   \n",
       "291    Default  2780.000000                  need  2780.000000  29.0000   \n",
       "12     Default  2395.000000                   say  2395.000000  28.0000   \n",
       "265    Default  2434.000000                 trump  2434.000000  27.0000   \n",
       "178    Default  2170.000000              outbreak  2170.000000  26.0000   \n",
       "...        ...          ...                   ...          ...      ...   \n",
       "894     Topic8   341.959320              announce   342.846588   2.3585   \n",
       "648     Topic8   327.669037                expert   328.555817   2.3583   \n",
       "467     Topic8   314.298401                  kill   315.185425   2.3582   \n",
       "1561    Topic8   300.483185                 allow   301.370819   2.3581   \n",
       "23370   Topic8  1136.328491  boris_johnson_demand  1143.703491   2.3546   \n",
       "\n",
       "       logprob  \n",
       "75     30.0000  \n",
       "291    29.0000  \n",
       "12     28.0000  \n",
       "265    27.0000  \n",
       "178    26.0000  \n",
       "...        ...  \n",
       "894    -4.8515  \n",
       "648    -4.8942  \n",
       "467    -4.9358  \n",
       "1561   -4.9808  \n",
       "23370  -3.6506  \n",
       "\n",
       "[271 rows x 6 columns], token_table=      Topic      Freq    Term\n",
       "term                         \n",
       "1123      7  0.997163     act\n",
       "1869      7  0.996185      ad\n",
       "761       8  0.998869  advice\n",
       "491       5  0.998951  affect\n",
       "49        1  0.999402     aid\n",
       "...     ...       ...     ...\n",
       "14        3  0.998912    well\n",
       "664       2  0.998626    work\n",
       "56        1  0.999242  worker\n",
       "1019      4  0.999100   would\n",
       "48        1  0.999047    year\n",
       "\n",
       "[242 rows x 3 columns], R=30, lambda_step=0.01, plot_opts={'xlab': 'PC1', 'ylab': 'PC2'}, topic_order=[2, 7, 4, 6, 8, 1, 5, 3])"
      ]
     },
     "execution_count": 90,
     "metadata": {},
     "output_type": "execute_result"
    }
   ],
   "source": [
    "# Visualize the topics\n",
    "pyLDAvis.enable_notebook()\n",
    "vis = pyLDAvis.gensim.prepare(lda_model, corpus, id2word)\n",
    "vis"
   ]
  },
  {
   "cell_type": "markdown",
   "metadata": {},
   "source": [
    "# Topic Assignment to Original Tweets"
   ]
  },
  {
   "cell_type": "code",
   "execution_count": 239,
   "metadata": {},
   "outputs": [],
   "source": [
    "final_topics = []\n",
    "for i in corpus:  \n",
    "    topics = lda_model.get_document_topics(i)\n",
    "\n",
    "    probs = {}\n",
    "    for i in topics:\n",
    "        probs[i[0]] = i[1]\n",
    "\n",
    "    topic = max(probs, key=probs.get)\n",
    "    final_topics.append(topic)"
   ]
  },
  {
   "cell_type": "code",
   "execution_count": 240,
   "metadata": {
    "scrolled": true
   },
   "outputs": [
    {
     "data": {
      "text/plain": [
       "57596"
      ]
     },
     "execution_count": 240,
     "metadata": {},
     "output_type": "execute_result"
    }
   ],
   "source": [
    "len(final_topics)"
   ]
  },
  {
   "cell_type": "code",
   "execution_count": 198,
   "metadata": {},
   "outputs": [],
   "source": [
    "df_final['topic'] = final_topics"
   ]
  },
  {
   "cell_type": "code",
   "execution_count": 202,
   "metadata": {},
   "outputs": [],
   "source": [
    "topic_dict = {0: 'other',\n",
    "              1: 'other',\n",
    "              2: 'boris',\n",
    "              3: 'economy',\n",
    "              4: 'public_health',\n",
    "              5: 'trump'}"
   ]
  },
  {
   "cell_type": "code",
   "execution_count": 204,
   "metadata": {},
   "outputs": [],
   "source": [
    "df_final['topic_defined'] = df_final.topic.apply(lambda x: topic_dict[x])"
   ]
  },
  {
   "cell_type": "code",
   "execution_count": 212,
   "metadata": {},
   "outputs": [],
   "source": [
    "from vaderSentiment.vaderSentiment import SentimentIntensityAnalyzer"
   ]
  },
  {
   "cell_type": "code",
   "execution_count": 213,
   "metadata": {},
   "outputs": [],
   "source": [
    "analyser = SentimentIntensityAnalyzer()\n",
    "\n",
    "df_final['sentiment'] = [analyser.polarity_scores(i) for i in df_final['tweets']]"
   ]
  },
  {
   "cell_type": "code",
   "execution_count": 236,
   "metadata": {},
   "outputs": [],
   "source": [
    "df_final['compound_sentiment'] = [i['compound'] for i in df_final['sentiment']]\n",
    "df_final['sentiment'] = df_final['compound_sentiment']\n",
    "df_final.drop(columns=['compound_sentiment'], inplace=True)"
   ]
  },
  {
   "cell_type": "code",
   "execution_count": 241,
   "metadata": {},
   "outputs": [
    {
     "data": {
      "text/html": [
       "<div>\n",
       "<style scoped>\n",
       "    .dataframe tbody tr th:only-of-type {\n",
       "        vertical-align: middle;\n",
       "    }\n",
       "\n",
       "    .dataframe tbody tr th {\n",
       "        vertical-align: top;\n",
       "    }\n",
       "\n",
       "    .dataframe thead th {\n",
       "        text-align: right;\n",
       "    }\n",
       "</style>\n",
       "<table border=\"1\" class=\"dataframe\">\n",
       "  <thead>\n",
       "    <tr style=\"text-align: right;\">\n",
       "      <th></th>\n",
       "      <th>tweets</th>\n",
       "      <th>topic</th>\n",
       "      <th>topic_defined</th>\n",
       "      <th>sentiment</th>\n",
       "    </tr>\n",
       "  </thead>\n",
       "  <tbody>\n",
       "    <tr>\n",
       "      <td>0</td>\n",
       "      <td>I said they are better than nothing, not that ...</td>\n",
       "      <td>3</td>\n",
       "      <td>economy</td>\n",
       "      <td>0.6984</td>\n",
       "    </tr>\n",
       "    <tr>\n",
       "      <td>1</td>\n",
       "      <td>Oops: CNN Forgot To Translate Its Latest Coron...</td>\n",
       "      <td>0</td>\n",
       "      <td>other</td>\n",
       "      <td>0.0000</td>\n",
       "    </tr>\n",
       "    <tr>\n",
       "      <td>2</td>\n",
       "      <td>Speeding up https://twitter.com/ryanfiredragon...</td>\n",
       "      <td>4</td>\n",
       "      <td>public_health</td>\n",
       "      <td>0.0000</td>\n",
       "    </tr>\n",
       "    <tr>\n",
       "      <td>3</td>\n",
       "      <td>Texas Gov. Greg Abbott, who routinely overrule...</td>\n",
       "      <td>4</td>\n",
       "      <td>public_health</td>\n",
       "      <td>0.6369</td>\n",
       "    </tr>\n",
       "    <tr>\n",
       "      <td>4</td>\n",
       "      <td>Other than Satan, is there anyone more evil th...</td>\n",
       "      <td>4</td>\n",
       "      <td>public_health</td>\n",
       "      <td>-0.6901</td>\n",
       "    </tr>\n",
       "    <tr>\n",
       "      <td>...</td>\n",
       "      <td>...</td>\n",
       "      <td>...</td>\n",
       "      <td>...</td>\n",
       "      <td>...</td>\n",
       "    </tr>\n",
       "    <tr>\n",
       "      <td>57591</td>\n",
       "      <td>Self employed no coronavirus bailout  https://...</td>\n",
       "      <td>4</td>\n",
       "      <td>public_health</td>\n",
       "      <td>-0.2273</td>\n",
       "    </tr>\n",
       "    <tr>\n",
       "      <td>57592</td>\n",
       "      <td>Paris St-Germain have made a 100,000 euro (£91...</td>\n",
       "      <td>3</td>\n",
       "      <td>economy</td>\n",
       "      <td>0.3612</td>\n",
       "    </tr>\n",
       "    <tr>\n",
       "      <td>57593</td>\n",
       "      <td>Now that the Coronavirus Act is live, here are...</td>\n",
       "      <td>4</td>\n",
       "      <td>public_health</td>\n",
       "      <td>0.0000</td>\n",
       "    </tr>\n",
       "    <tr>\n",
       "      <td>57594</td>\n",
       "      <td>Countries ranked for most cumulative cases of ...</td>\n",
       "      <td>4</td>\n",
       "      <td>public_health</td>\n",
       "      <td>0.0000</td>\n",
       "    </tr>\n",
       "    <tr>\n",
       "      <td>57595</td>\n",
       "      <td>Coronavirus: How you can help Bay Area’s most ...</td>\n",
       "      <td>0</td>\n",
       "      <td>other</td>\n",
       "      <td>0.1298</td>\n",
       "    </tr>\n",
       "  </tbody>\n",
       "</table>\n",
       "<p>57596 rows × 4 columns</p>\n",
       "</div>"
      ],
      "text/plain": [
       "                                                  tweets  topic  \\\n",
       "0      I said they are better than nothing, not that ...      3   \n",
       "1      Oops: CNN Forgot To Translate Its Latest Coron...      0   \n",
       "2      Speeding up https://twitter.com/ryanfiredragon...      4   \n",
       "3      Texas Gov. Greg Abbott, who routinely overrule...      4   \n",
       "4      Other than Satan, is there anyone more evil th...      4   \n",
       "...                                                  ...    ...   \n",
       "57591  Self employed no coronavirus bailout  https://...      4   \n",
       "57592  Paris St-Germain have made a 100,000 euro (£91...      3   \n",
       "57593  Now that the Coronavirus Act is live, here are...      4   \n",
       "57594  Countries ranked for most cumulative cases of ...      4   \n",
       "57595  Coronavirus: How you can help Bay Area’s most ...      0   \n",
       "\n",
       "       topic_defined  sentiment  \n",
       "0            economy     0.6984  \n",
       "1              other     0.0000  \n",
       "2      public_health     0.0000  \n",
       "3      public_health     0.6369  \n",
       "4      public_health    -0.6901  \n",
       "...              ...        ...  \n",
       "57591  public_health    -0.2273  \n",
       "57592        economy     0.3612  \n",
       "57593  public_health     0.0000  \n",
       "57594  public_health     0.0000  \n",
       "57595          other     0.1298  \n",
       "\n",
       "[57596 rows x 4 columns]"
      ]
     },
     "execution_count": 241,
     "metadata": {},
     "output_type": "execute_result"
    }
   ],
   "source": [
    "df_final"
   ]
  },
  {
   "cell_type": "code",
   "execution_count": 238,
   "metadata": {},
   "outputs": [
    {
     "data": {
      "text/html": [
       "<div>\n",
       "<style scoped>\n",
       "    .dataframe tbody tr th:only-of-type {\n",
       "        vertical-align: middle;\n",
       "    }\n",
       "\n",
       "    .dataframe tbody tr th {\n",
       "        vertical-align: top;\n",
       "    }\n",
       "\n",
       "    .dataframe thead th {\n",
       "        text-align: right;\n",
       "    }\n",
       "</style>\n",
       "<table border=\"1\" class=\"dataframe\">\n",
       "  <thead>\n",
       "    <tr style=\"text-align: right;\">\n",
       "      <th></th>\n",
       "      <th>count</th>\n",
       "      <th>mean</th>\n",
       "      <th>std</th>\n",
       "      <th>min</th>\n",
       "      <th>25%</th>\n",
       "      <th>50%</th>\n",
       "      <th>75%</th>\n",
       "      <th>max</th>\n",
       "    </tr>\n",
       "    <tr>\n",
       "      <th>topic_defined</th>\n",
       "      <th></th>\n",
       "      <th></th>\n",
       "      <th></th>\n",
       "      <th></th>\n",
       "      <th></th>\n",
       "      <th></th>\n",
       "      <th></th>\n",
       "      <th></th>\n",
       "    </tr>\n",
       "  </thead>\n",
       "  <tbody>\n",
       "    <tr>\n",
       "      <td>boris</td>\n",
       "      <td>16776.0</td>\n",
       "      <td>0.001269</td>\n",
       "      <td>0.505326</td>\n",
       "      <td>-0.9902</td>\n",
       "      <td>-0.4201</td>\n",
       "      <td>0.0</td>\n",
       "      <td>0.42150</td>\n",
       "      <td>0.9920</td>\n",
       "    </tr>\n",
       "    <tr>\n",
       "      <td>economy</td>\n",
       "      <td>1600.0</td>\n",
       "      <td>-0.030164</td>\n",
       "      <td>0.469112</td>\n",
       "      <td>-0.9788</td>\n",
       "      <td>-0.4013</td>\n",
       "      <td>0.0</td>\n",
       "      <td>0.34000</td>\n",
       "      <td>0.9664</td>\n",
       "    </tr>\n",
       "    <tr>\n",
       "      <td>other</td>\n",
       "      <td>4425.0</td>\n",
       "      <td>-0.035561</td>\n",
       "      <td>0.456815</td>\n",
       "      <td>-0.9589</td>\n",
       "      <td>-0.3954</td>\n",
       "      <td>0.0</td>\n",
       "      <td>0.31820</td>\n",
       "      <td>0.9890</td>\n",
       "    </tr>\n",
       "    <tr>\n",
       "      <td>public_health</td>\n",
       "      <td>33753.0</td>\n",
       "      <td>-0.018815</td>\n",
       "      <td>0.458946</td>\n",
       "      <td>-0.9935</td>\n",
       "      <td>-0.3818</td>\n",
       "      <td>0.0</td>\n",
       "      <td>0.34000</td>\n",
       "      <td>0.9928</td>\n",
       "    </tr>\n",
       "    <tr>\n",
       "      <td>trump</td>\n",
       "      <td>1042.0</td>\n",
       "      <td>-0.018735</td>\n",
       "      <td>0.489367</td>\n",
       "      <td>-0.9493</td>\n",
       "      <td>-0.4019</td>\n",
       "      <td>0.0</td>\n",
       "      <td>0.36585</td>\n",
       "      <td>0.9694</td>\n",
       "    </tr>\n",
       "  </tbody>\n",
       "</table>\n",
       "</div>"
      ],
      "text/plain": [
       "                 count      mean       std     min     25%  50%      75%  \\\n",
       "topic_defined                                                              \n",
       "boris          16776.0  0.001269  0.505326 -0.9902 -0.4201  0.0  0.42150   \n",
       "economy         1600.0 -0.030164  0.469112 -0.9788 -0.4013  0.0  0.34000   \n",
       "other           4425.0 -0.035561  0.456815 -0.9589 -0.3954  0.0  0.31820   \n",
       "public_health  33753.0 -0.018815  0.458946 -0.9935 -0.3818  0.0  0.34000   \n",
       "trump           1042.0 -0.018735  0.489367 -0.9493 -0.4019  0.0  0.36585   \n",
       "\n",
       "                  max  \n",
       "topic_defined          \n",
       "boris          0.9920  \n",
       "economy        0.9664  \n",
       "other          0.9890  \n",
       "public_health  0.9928  \n",
       "trump          0.9694  "
      ]
     },
     "execution_count": 238,
     "metadata": {},
     "output_type": "execute_result"
    }
   ],
   "source": [
    "df_final.groupby('topic_defined')['sentiment'].describe()"
   ]
  },
  {
   "cell_type": "code",
   "execution_count": 159,
   "metadata": {},
   "outputs": [],
   "source": [
    "final_topics = []\n",
    "for i in corpus:\n",
    "    topics = []\n",
    "    t = lda_model.get_document_topics(i)\n",
    "    topics.append(t)\n",
    "    \n",
    "    probs = {}\n",
    "    for i in topics:\n",
    "        probs[i[0]] = i[1]\n",
    "\n",
    "    max_topic = max(probs, key=probs.get)\n",
    "    final_topics.append(max_topic)"
   ]
  },
  {
   "cell_type": "code",
   "execution_count": 91,
   "metadata": {},
   "outputs": [],
   "source": [
    "# Save a dictionary into a pickle file.\n",
    "import pickle\n",
    "\n",
    "pickle.dump(vis, open(\"pyLDAvis_8_3456\", \"wb\" ))"
   ]
  },
  {
   "cell_type": "code",
   "execution_count": null,
   "metadata": {},
   "outputs": [],
   "source": []
  },
  {
   "cell_type": "code",
   "execution_count": 92,
   "metadata": {},
   "outputs": [],
   "source": [
    "import pickle\n",
    "vis = pickle.load( open( \"pyLDAvis_8_3456\", \"rb\" ) )\n",
    "# favorite_color is now { \"lion\": \"yellow\", \"kitty\": \"red\" }d"
   ]
  },
  {
   "cell_type": "markdown",
   "metadata": {},
   "source": [
    "# Visualizing and Findings"
   ]
  },
  {
   "cell_type": "code",
   "execution_count": null,
   "metadata": {},
   "outputs": [],
   "source": []
  },
  {
   "cell_type": "code",
   "execution_count": null,
   "metadata": {},
   "outputs": [],
   "source": []
  },
  {
   "cell_type": "markdown",
   "metadata": {},
   "source": [
    "# Pickle"
   ]
  },
  {
   "cell_type": "code",
   "execution_count": null,
   "metadata": {},
   "outputs": [],
   "source": [
    "# Save a dictionary into a pickle file.\n",
    "import pickle"
   ]
  },
  {
   "cell_type": "code",
   "execution_count": null,
   "metadata": {},
   "outputs": [],
   "source": [
    "pickle.dump(vis, open(\"pyLDAvis_8_3456\", \"wb\" ))"
   ]
  },
  {
   "cell_type": "code",
   "execution_count": null,
   "metadata": {},
   "outputs": [],
   "source": [
    "vis = pickle.load( open( \"pyLDAvis_8_3456\", \"rb\" ) )\n",
    "# favorite_color is now { \"lion\": \"yellow\", \"kitty\": \"red\" }d"
   ]
  }
 ],
 "metadata": {
  "kernelspec": {
   "display_name": "Python 3",
   "language": "python",
   "name": "python3"
  },
  "language_info": {
   "codemirror_mode": {
    "name": "ipython",
    "version": 3
   },
   "file_extension": ".py",
   "mimetype": "text/x-python",
   "name": "python",
   "nbconvert_exporter": "python",
   "pygments_lexer": "ipython3",
   "version": "3.7.4"
  },
  "toc": {
   "base_numbering": 1,
   "nav_menu": {},
   "number_sections": true,
   "sideBar": true,
   "skip_h1_title": false,
   "title_cell": "Table of Contents",
   "title_sidebar": "Contents",
   "toc_cell": false,
   "toc_position": {
    "height": "calc(100% - 180px)",
    "left": "10px",
    "top": "150px",
    "width": "165px"
   },
   "toc_section_display": true,
   "toc_window_display": true
  }
 },
 "nbformat": 4,
 "nbformat_minor": 2
}
