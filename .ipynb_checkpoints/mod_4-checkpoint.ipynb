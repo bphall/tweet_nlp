{
 "cells": [
  {
   "cell_type": "markdown",
   "metadata": {},
   "source": [
    "# Setup"
   ]
  },
  {
   "cell_type": "code",
   "execution_count": 1,
   "metadata": {
    "scrolled": true
   },
   "outputs": [],
   "source": [
    "import nltk\n",
    "import time\n",
    "import re\n",
    "import numpy as np\n",
    "import pandas as pd\n",
    "import twint\n",
    "import json\n",
    "from pprint import pprint\n",
    "\n",
    "# Gensim\n",
    "import gensim\n",
    "import gensim.corpora as corpora\n",
    "from gensim.utils import simple_preprocess\n",
    "from gensim.models import CoherenceModel\n",
    "\n",
    "# spacy for lemmatization\n",
    "import spacy\n",
    "\n",
    "# Plotting tools FOR TOPIC MODELING\n",
    "import pyLDAvis\n",
    "import pyLDAvis.gensim  # don't skip this\n",
    "import matplotlib.pyplot as plt\n",
    "%matplotlib inline\n",
    "\n",
    "# Enable logging for gensim - optional  (I HAVEN'T USED THIS YET)\n",
    "import logging\n",
    "logging.basicConfig(format='%(asctime)s : %(levelname)s : %(message)s', level=logging.ERROR)\n",
    "\n",
    "import warnings\n",
    "warnings.filterwarnings(\"ignore\",category=DeprecationWarning)\n",
    "\n",
    "# NLTK Stop words -------------- ADD TO THESE AS WE SEE FIT\n",
    "from nltk.corpus import stopwords\n",
    "stop_words = stopwords.words('english')\n",
    "\n",
    "\n",
    "\n",
    "pd.set_option('display.max_columns', 50)\n",
    "pd.set_option('display.max_rows', 50)"
   ]
  },
  {
   "cell_type": "markdown",
   "metadata": {},
   "source": [
    "# TWINT SCRAPING FROM TWITTER "
   ]
  },
  {
   "cell_type": "markdown",
   "metadata": {},
   "source": [
    "---\n",
    "\n",
    "SEE https://github.com/twintproject/twint for options. The following cell returns a .csv file from all tweets containing 'Coronavirs' since the time specified by the [--since] option, in the [--lang] of english (en), and the csv file gets named after whatever iteration of scraping it is plus useful search parameters in the file name.\n",
    "\n",
    "\n",
    "---"
   ]
  },
  {
   "cell_type": "code",
   "execution_count": 8,
   "metadata": {},
   "outputs": [],
   "source": [
    "# THE TWINT COMMAND I USE IN TERMINAL TO SCRAPE\n",
    "\n",
    "# twint -s Coronavirus --since \"2020-03-24 20:00:00\" --lang en -o just_cv_en_2 --csv"
   ]
  },
  {
   "cell_type": "markdown",
   "metadata": {},
   "source": [
    "# Importing and Prepocessing "
   ]
  },
  {
   "cell_type": "markdown",
   "metadata": {},
   "source": [
    "---\n",
    "\n",
    "**Open the corpus_pipeline to make changes, I'm sure there's lots of ways to clean tweets beyond simply regexing for emails and new line characters, probably way more preprocessing we can do, especially with .extending the stopwords.**\n",
    "\n",
    "---"
   ]
  },
  {
   "cell_type": "code",
   "execution_count": 9,
   "metadata": {},
   "outputs": [
    {
     "ename": "NameError",
     "evalue": "name 'df3' is not defined",
     "output_type": "error",
     "traceback": [
      "\u001b[0;31m---------------------------------------------------------------------------\u001b[0m",
      "\u001b[0;31mNameError\u001b[0m                                 Traceback (most recent call last)",
      "\u001b[0;32m<ipython-input-9-cf74e8725ad1>\u001b[0m in \u001b[0;36m<module>\u001b[0;34m\u001b[0m\n\u001b[0;32m----> 1\u001b[0;31m \u001b[0mdf\u001b[0m \u001b[0;34m=\u001b[0m \u001b[0mpd\u001b[0m\u001b[0;34m.\u001b[0m\u001b[0mconcat\u001b[0m\u001b[0;34m(\u001b[0m\u001b[0;34m[\u001b[0m\u001b[0mdf3\u001b[0m\u001b[0;34m,\u001b[0m \u001b[0mdf4\u001b[0m\u001b[0;34m,\u001b[0m \u001b[0mdf5\u001b[0m\u001b[0;34m]\u001b[0m\u001b[0;34m)\u001b[0m\u001b[0;34m\u001b[0m\u001b[0;34m\u001b[0m\u001b[0m\n\u001b[0m",
      "\u001b[0;31mNameError\u001b[0m: name 'df3' is not defined"
     ]
    }
   ],
   "source": [
    "df = pd.concat([df3, df4, df5])"
   ]
  },
  {
   "cell_type": "code",
   "execution_count": 10,
   "metadata": {},
   "outputs": [],
   "source": [
    "df3 = pd.read_csv('./just_cv/twint_3_en.csv')"
   ]
  },
  {
   "cell_type": "code",
   "execution_count": 11,
   "metadata": {
    "scrolled": true
   },
   "outputs": [
    {
     "data": {
      "text/plain": [
       "(14400, 34)"
      ]
     },
     "execution_count": 11,
     "metadata": {},
     "output_type": "execute_result"
    }
   ],
   "source": [
    "df3.shape"
   ]
  },
  {
   "cell_type": "code",
   "execution_count": 12,
   "metadata": {},
   "outputs": [],
   "source": [
    "df4 = pd.read_csv('./just_cv/twint_4_en.csv')"
   ]
  },
  {
   "cell_type": "code",
   "execution_count": 13,
   "metadata": {},
   "outputs": [
    {
     "data": {
      "text/plain": [
       "(14399, 34)"
      ]
     },
     "execution_count": 13,
     "metadata": {},
     "output_type": "execute_result"
    }
   ],
   "source": [
    "df4.shape"
   ]
  },
  {
   "cell_type": "code",
   "execution_count": 14,
   "metadata": {},
   "outputs": [],
   "source": [
    "df5 = pd.read_csv('./just_cv/twint_5_en.csv')"
   ]
  },
  {
   "cell_type": "code",
   "execution_count": 15,
   "metadata": {},
   "outputs": [
    {
     "data": {
      "text/plain": [
       "(14399, 34)"
      ]
     },
     "execution_count": 15,
     "metadata": {},
     "output_type": "execute_result"
    }
   ],
   "source": [
    "df5.shape"
   ]
  },
  {
   "cell_type": "code",
   "execution_count": 16,
   "metadata": {},
   "outputs": [],
   "source": [
    "data3 = df3.tweet.values"
   ]
  },
  {
   "cell_type": "code",
   "execution_count": 17,
   "metadata": {},
   "outputs": [],
   "source": [
    "data4 = df4.tweet.values"
   ]
  },
  {
   "cell_type": "code",
   "execution_count": 18,
   "metadata": {},
   "outputs": [],
   "source": [
    "data5 = df5.tweet.values"
   ]
  },
  {
   "cell_type": "code",
   "execution_count": 19,
   "metadata": {},
   "outputs": [],
   "source": [
    "data = np.concatenate([data3, data4, data5])"
   ]
  },
  {
   "cell_type": "code",
   "execution_count": 20,
   "metadata": {
    "scrolled": true
   },
   "outputs": [
    {
     "data": {
      "text/plain": [
       "(43198,)"
      ]
     },
     "execution_count": 20,
     "metadata": {},
     "output_type": "execute_result"
    }
   ],
   "source": [
    "data.shape"
   ]
  },
  {
   "cell_type": "code",
   "execution_count": 21,
   "metadata": {
    "scrolled": true
   },
   "outputs": [
    {
     "data": {
      "text/plain": [
       "array(['I said they are better than nothing, not that they are as good as the medical ones. There was no \"bare face\" group to fully show how effective the cloth masks are. The cloth masks are not meant to protect you from coronavirus, they are there to catch at least some of the 1/2',\n",
       "       'Oops: CNN Forgot To Translate Its Latest Coronavirus Update From Mandarin |   https://babylonbee.com/news/cnn-embarassed-after-forgetting-to-translate-latest-coronavirus-update-from-mandarin-before-publishing\\xa0…',\n",
       "       'Speeding up https://twitter.com/ryanfiredragon/status/1242886374963007493\\xa0…',\n",
       "       ...,\n",
       "       'Felling Worried due Corona virus\\n#NarendraModi ji Me and My family are staying at home for sake of our lives and for others as well but people are still roaming outside as if these are summer holidays .Sir Please take some strict action against them .',\n",
       "       \"@RahulGandhi what is your and your party contribution in fighting against #ChineseVirus #CoronaVirus. Stupidly criticising won't help.\",\n",
       "       '.@realDonaldTrump has backed the decision to postpone the @Olympics due to the #coronavirus pandemic, believing the Games will take place in 2021.\\n https://www.mykhel.com/more-sports/donald-trump-us-president-olympics-postponement-will-be-in-tokyo-140612.html\\xa0…'],\n",
       "      dtype=object)"
      ]
     },
     "execution_count": 21,
     "metadata": {},
     "output_type": "execute_result"
    }
   ],
   "source": [
    "data"
   ]
  },
  {
   "cell_type": "markdown",
   "metadata": {},
   "source": [
    "**The following removes tweets with [n] words or less.**"
   ]
  },
  {
   "cell_type": "code",
   "execution_count": 22,
   "metadata": {},
   "outputs": [],
   "source": [
    "types = []\n",
    "for i in data:\n",
    "    types.append(type(i))"
   ]
  },
  {
   "cell_type": "code",
   "execution_count": 23,
   "metadata": {},
   "outputs": [],
   "source": [
    "index = 0\n",
    "non_str = {}\n",
    "fake = []\n",
    "for i in data: \n",
    "    if type(i) != str:\n",
    "        non_str[index] = type(i)\n",
    "    index += 1"
   ]
  },
  {
   "cell_type": "code",
   "execution_count": 24,
   "metadata": {
    "scrolled": true
   },
   "outputs": [
    {
     "data": {
      "text/plain": [
       "{5665: float}"
      ]
     },
     "execution_count": 24,
     "metadata": {},
     "output_type": "execute_result"
    }
   ],
   "source": [
    "non_str"
   ]
  },
  {
   "cell_type": "code",
   "execution_count": 25,
   "metadata": {},
   "outputs": [],
   "source": [
    "for i in non_str:\n",
    "    data = np.delete(data, i)"
   ]
  },
  {
   "cell_type": "code",
   "execution_count": 26,
   "metadata": {
    "scrolled": true
   },
   "outputs": [
    {
     "data": {
      "text/plain": [
       "'Your president said that the coronavirus is a Chinese virus. Do you still want the Chinese people to like you in the United States?  Do you think anyone in the United States bullies?  Scolded us and smile at you Americans?  We are not China a century ago'"
      ]
     },
     "execution_count": 26,
     "metadata": {},
     "output_type": "execute_result"
    }
   ],
   "source": [
    "data[5665]"
   ]
  },
  {
   "cell_type": "code",
   "execution_count": 27,
   "metadata": {},
   "outputs": [
    {
     "data": {
      "text/plain": [
       "(43197,)"
      ]
     },
     "execution_count": 27,
     "metadata": {},
     "output_type": "execute_result"
    }
   ],
   "source": [
    "data.shape"
   ]
  },
  {
   "cell_type": "code",
   "execution_count": 28,
   "metadata": {},
   "outputs": [],
   "source": [
    "ndata = []\n",
    "for i in data:\n",
    "    if len(i.split(' ')) > 10:\n",
    "        ndata.append(i)"
   ]
  },
  {
   "cell_type": "code",
   "execution_count": 29,
   "metadata": {
    "scrolled": false
   },
   "outputs": [
    {
     "data": {
      "text/plain": [
       "(43197, 38288)"
      ]
     },
     "execution_count": 29,
     "metadata": {},
     "output_type": "execute_result"
    }
   ],
   "source": [
    "len(data), len(ndata)"
   ]
  },
  {
   "cell_type": "code",
   "execution_count": null,
   "metadata": {},
   "outputs": [],
   "source": []
  },
  {
   "cell_type": "code",
   "execution_count": 43,
   "metadata": {},
   "outputs": [],
   "source": [
    "more = [\"news\",\"case\",\"make\",\"would\",\"death\",\"spread\",\"story\",\"still\",\"stop\",\"kill\",\"com\", \"twitter\",\"pic\",\"say\",\"https\"]\n",
    "more2 = [\"help\",\"work\",\"time\",\"new\",\"covid\",\"get\",\"test\",\"day\",\"http\",\"country\",\"good\",\"world\",\"may\",\"government\",\"pat\"]\n",
    "more3 = [\"due\",\"stay\",\"be\",\"report\",\"worker\",\"bill\",\"back\",\"first\",\"people\",\"corona\"]\n",
    "more4 = [\"go\",\"die\",\"take\",\"see\",\"know\",\"status\",\"call\",'Go','Say', 'www', 'many', 'see', 'make', 'want', 'be', 'could', \"s\", 'tell', 'today']\n",
    "more5 = ['Let', 'Be', 'case', 'make', 'also', 'let']\n"
   ]
  },
  {
   "cell_type": "code",
   "execution_count": 31,
   "metadata": {},
   "outputs": [],
   "source": [
    "more.extend(more2)"
   ]
  },
  {
   "cell_type": "code",
   "execution_count": 32,
   "metadata": {},
   "outputs": [],
   "source": [
    "more.extend(more3)"
   ]
  },
  {
   "cell_type": "code",
   "execution_count": 33,
   "metadata": {},
   "outputs": [],
   "source": [
    "more.extend(more4)"
   ]
  },
  {
   "cell_type": "code",
   "execution_count": 34,
   "metadata": {
    "scrolled": true
   },
   "outputs": [
    {
     "data": {
      "text/plain": [
       "59"
      ]
     },
     "execution_count": 34,
     "metadata": {},
     "output_type": "execute_result"
    }
   ],
   "source": [
    "len(more)"
   ]
  },
  {
   "cell_type": "code",
   "execution_count": 35,
   "metadata": {},
   "outputs": [
    {
     "data": {
      "text/plain": [
       "179"
      ]
     },
     "execution_count": 35,
     "metadata": {},
     "output_type": "execute_result"
    }
   ],
   "source": [
    "len(stop_words)"
   ]
  },
  {
   "cell_type": "code",
   "execution_count": 36,
   "metadata": {},
   "outputs": [],
   "source": [
    "stop_words.extend(['from', 'subject', 're', 'edu', 'use'])"
   ]
  },
  {
   "cell_type": "code",
   "execution_count": 37,
   "metadata": {},
   "outputs": [],
   "source": [
    "stop_words.extend(more)"
   ]
  },
  {
   "cell_type": "markdown",
   "metadata": {},
   "source": [
    "**The following returns the [id2word] dictionary, [texts] which is the lemmatized data, and [corpus] which is the corpus.**"
   ]
  },
  {
   "cell_type": "code",
   "execution_count": 38,
   "metadata": {
    "code_folding": []
   },
   "outputs": [],
   "source": [
    "def corpus_pipeline(data):  \n",
    "    # ********    THE FOLLOWING REGEXES SHOULD PROBABLY BE HEAVILY MODIFIED FOR CUSTOMIZING TWEETS CLEANING  *************\n",
    "    # Remove Emails\n",
    "    data = [re.sub('\\S*@\\S*\\s?', '', sent) for sent in data]\n",
    "\n",
    "    # Remove new line characters\n",
    "    data = [re.sub('\\s+', ' ', sent) for sent in data]\n",
    "\n",
    "    # Remove distracting single quotes\n",
    "    data = [re.sub(\"\\'\", \"\", sent) for sent in data]\n",
    "\n",
    "    def sent_to_words(sentences):\n",
    "        for sentence in sentences:\n",
    "            yield(gensim.utils.simple_preprocess(str(sentence), deacc=True))  # deacc=True removes punctuations\n",
    "\n",
    "    data_words = list(sent_to_words(data))\n",
    "\n",
    "    # Build the bigram and trigram models\n",
    "    bigram = gensim.models.Phrases(data_words, min_count=5, threshold=100) # higher threshold fewer phrases.\n",
    "    trigram = gensim.models.Phrases(bigram[data_words], threshold=100)  \n",
    "\n",
    "    # # Faster way to get a sentence clubbed as a trigram/bigram\n",
    "    bigram_mod = gensim.models.phrases.Phraser(bigram)\n",
    "    trigram_mod = gensim.models.phrases.Phraser(trigram)\n",
    "\n",
    "    # **********   ALSO PROBABLY REQUIRES EXTENSIVE ADDING OF TWEET-SPECIFIC STOPWORDS   ***********\n",
    "    # Define functions for stopwords, bigrams, trigrams and lemmatization\n",
    "    def remove_stopwords(texts):\n",
    "        return [[word for word in simple_preprocess(str(doc)) if word not in stop_words] for doc in texts]\n",
    "\n",
    "    def make_bigrams(texts):\n",
    "        return [bigram_mod[doc] for doc in texts]\n",
    "\n",
    "    def make_trigrams(texts):\n",
    "        return [trigram_mod[bigram_mod[doc]] for doc in texts]\n",
    "\n",
    "    def lemmatization(texts, allowed_postags=['NOUN', 'ADJ', 'VERB', 'ADV']):\n",
    "        \"\"\"https://spacy.io/api/annotation\"\"\"\n",
    "        texts_out = []\n",
    "        for sent in texts:\n",
    "            doc = nlp(\" \".join(sent)) \n",
    "            texts_out.append([token.lemma_ for token in doc if token.pos_ in allowed_postags])\n",
    "        return texts_out\n",
    "\n",
    "    # Remove Stop Words\n",
    "    data_words_nostops = remove_stopwords(data_words)\n",
    "\n",
    "    # Form Bigrams\n",
    "    data_words_bigrams = make_bigrams(data_words_nostops)\n",
    "    \n",
    "    data_words_trigrams = make_trigrams(data_words_bigrams)\n",
    "\n",
    "    # Initialize spacy 'en' model, keeping only tagger component (for efficiency)\n",
    "    # python3 -m spacy download en\n",
    "    nlp = spacy.load('en', disable=['parser', 'ner'])\n",
    "\n",
    "    # Do lemmatization keeping only noun, adj, vb, adv\n",
    "    data_lemmatized = lemmatization(data_words_trigrams, allowed_postags=['NOUN', 'ADJ', 'VERB', 'ADV'])\n",
    "\n",
    "    # Create Dictionary\n",
    "    id2word = corpora.Dictionary(data_lemmatized)\n",
    "\n",
    "    # Create Corpus\n",
    "    texts = data_lemmatized\n",
    "\n",
    "    # Term Document Frequency\n",
    "    corpus = [id2word.doc2bow(text) for text in texts]\n",
    "    \n",
    "    return id2word, texts, corpus"
   ]
  },
  {
   "cell_type": "code",
   "execution_count": 39,
   "metadata": {},
   "outputs": [],
   "source": [
    "id2word, texts, corpus = corpus_pipeline(ndata)"
   ]
  },
  {
   "cell_type": "markdown",
   "metadata": {},
   "source": [
    "**The following makes many LDA (Latent Dirichlet Allocation models, from the gensim tutorial), but sometimes it randomly breaks and I don't know why, but the parameters take for more looking into to understand what's going on.**"
   ]
  },
  {
   "cell_type": "code",
   "execution_count": 40,
   "metadata": {
    "code_folding": [
     0
    ]
   },
   "outputs": [],
   "source": [
    "def compute_coherence_values(dictionary, corpus, texts, limit, start=5, step=5): \n",
    "    \"\"\" Compute coherence values for various number of topics.\n",
    "    Parameters:\n",
    "        dictionary : Gensim dictionary\n",
    "        corpus : Gensim corpus\n",
    "        texts : List of input texts\n",
    "        limit : Max num of topics\n",
    "        start : Int of lowest number of topics to model\n",
    "        step : Int of increment to change number of topics to model\n",
    "    Returns:\n",
    "        model_list : List of LDA topic models\n",
    "        coherence_values : Coherence values corresponding to the LDA model with respective number of topics\n",
    "    \"\"\"\n",
    "    coherence_values = []\n",
    "    model_list = []\n",
    "    for num_topics in range(start, limit, step):\n",
    "        start=time.time()\n",
    "        model = gensim.models.ldamulticore.LdaMulticore(corpus=corpus,\n",
    "                                           id2word=id2word,\n",
    "                                           num_topics=num_topics, \n",
    "                                           random_state=100,\n",
    "                                           chunksize=1000,\n",
    "                                           passes=1,\n",
    "                                           per_word_topics=True)\n",
    "                                            \n",
    "        \n",
    "        print(f'Topic modeling for {num_topics} topics took {time.time()-start} seconds.')\n",
    "        model_list.append(model)\n",
    "        coherencemodel = CoherenceModel(model=model, texts=texts, dictionary=dictionary, coherence='c_v')\n",
    "        coherence_values.append(coherencemodel.get_coherence())\n",
    "\n",
    "    return model_list, coherence_values"
   ]
  },
  {
   "cell_type": "code",
   "execution_count": 49,
   "metadata": {},
   "outputs": [],
   "source": [
    "strt = 12\n",
    "lmt = 17\n",
    "stp = 1"
   ]
  },
  {
   "cell_type": "code",
   "execution_count": null,
   "metadata": {
    "scrolled": true
   },
   "outputs": [
    {
     "name": "stdout",
     "output_type": "stream",
     "text": [
      "Topic modeling for 12 topics took 4.184603214263916 seconds.\n",
      "Topic modeling for 13 topics took 4.124147891998291 seconds.\n"
     ]
    }
   ],
   "source": [
    "ml, cov = compute_coherence_values(id2word, corpus, texts, lmt, strt, stp)"
   ]
  },
  {
   "cell_type": "markdown",
   "metadata": {},
   "source": [
    "# Graphing and Visualizing the Modeled Topics (presumably, and ideally, distinct Twitter communites, such as those talking about government vs. domestic activity vs. memes vs. health advice"
   ]
  },
  {
   "cell_type": "code",
   "execution_count": 47,
   "metadata": {
    "code_folding": []
   },
   "outputs": [],
   "source": [
    "def graph_coherence(coherence_values):\n",
    "    \"\"\" Graph a list of coherence values to determine the optimal number of topics to model. \"\"\"\n",
    "    limit=lmt; start=strt; step=stp;\n",
    "    x = range(start, limit, step)\n",
    "    plt.plot(x, coherence_values)\n",
    "    plt.xlabel(\"Num Topics\")\n",
    "    plt.ylabel(\"Coherence score\")\n",
    "    plt.legend((\"coherence_values\"), loc='best')\n",
    "    plt.show()\n",
    "    "
   ]
  },
  {
   "cell_type": "code",
   "execution_count": 48,
   "metadata": {
    "scrolled": true
   },
   "outputs": [
    {
     "data": {
      "image/png": "[encoded data removed]",
      "text/plain": [
       "<Figure size 432x288 with 1 Axes>"
      ]
     },
     "metadata": {
      "needs_background": "light"
     },
     "output_type": "display_data"
    }
   ],
   "source": [
    "graph_coherence(cov)"
   ]
  },
  {
   "cell_type": "markdown",
   "metadata": {},
   "source": [
    "**In the following cells we can use the model with the highest coherence.**"
   ]
  },
  {
   "cell_type": "code",
   "execution_count": null,
   "metadata": {
    "scrolled": true
   },
   "outputs": [],
   "source": [
    "ml[2] ## corresponds to the above model with 8 topics"
   ]
  },
  {
   "cell_type": "code",
   "execution_count": null,
   "metadata": {},
   "outputs": [],
   "source": [
    "ml[-1]."
   ]
  },
  {
   "cell_type": "code",
   "execution_count": null,
   "metadata": {},
   "outputs": [],
   "source": [
    "optimal_model = ml[-1]\n",
    "model_topics = optimal_model.show_topics(formatted=False)\n",
    "pprint(optimal_model.print_topics(num_words=10))"
   ]
  },
  {
   "cell_type": "code",
   "execution_count": null,
   "metadata": {},
   "outputs": [],
   "source": []
  },
  {
   "cell_type": "code",
   "execution_count": null,
   "metadata": {},
   "outputs": [],
   "source": [
    "# Visualize the topics\n",
    "pyLDAvis.enable_notebook()\n",
    "vis = pyLDAvis.gensim.prepare(lda_model, corpus, id2word)\n",
    "vis"
   ]
  },
  {
   "cell_type": "code",
   "execution_count": null,
   "metadata": {},
   "outputs": [],
   "source": []
  },
  {
   "cell_type": "code",
   "execution_count": null,
   "metadata": {},
   "outputs": [],
   "source": []
  },
  {
   "cell_type": "code",
   "execution_count": null,
   "metadata": {},
   "outputs": [],
   "source": []
  },
  {
   "cell_type": "code",
   "execution_count": null,
   "metadata": {},
   "outputs": [],
   "source": []
  },
  {
   "cell_type": "code",
   "execution_count": null,
   "metadata": {},
   "outputs": [],
   "source": []
  },
  {
   "cell_type": "code",
   "execution_count": null,
   "metadata": {},
   "outputs": [],
   "source": []
  },
  {
   "cell_type": "code",
   "execution_count": null,
   "metadata": {},
   "outputs": [],
   "source": [
    "df2"
   ]
  },
  {
   "cell_type": "code",
   "execution_count": null,
   "metadata": {},
   "outputs": [],
   "source": []
  },
  {
   "cell_type": "code",
   "execution_count": null,
   "metadata": {},
   "outputs": [],
   "source": []
  },
  {
   "cell_type": "code",
   "execution_count": null,
   "metadata": {},
   "outputs": [],
   "source": []
  },
  {
   "cell_type": "code",
   "execution_count": null,
   "metadata": {},
   "outputs": [],
   "source": [
    "# Build LDA model\n",
    "lda_model = gensim.models.ldamodel.LdaModel(corpus=corpus,\n",
    "                                           id2word=id2word,\n",
    "                                           num_topics=5, \n",
    "                                           random_state=100,\n",
    "                                           update_every=1,\n",
    "                                           chunksize=100,\n",
    "                                           passes=10,\n",
    "                                           alpha='auto',\n",
    "                                           per_word_topics=True)"
   ]
  },
  {
   "cell_type": "code",
   "execution_count": null,
   "metadata": {},
   "outputs": [],
   "source": [
    "lda_model.show_topics()"
   ]
  },
  {
   "cell_type": "code",
   "execution_count": null,
   "metadata": {},
   "outputs": [],
   "source": [
    "# Build LDA model\n",
    "lda_model_10 = gensim.models.ldamodel.LdaModel(corpus=corpus,\n",
    "                                           id2word=id2word,\n",
    "                                           num_topics=10, \n",
    "                                           random_state=100,\n",
    "                                           update_every=1,\n",
    "                                           chunksize=100,\n",
    "                                           passes=10,\n",
    "                                           alpha='auto',\n",
    "                                           per_word_topics=True)"
   ]
  },
  {
   "cell_type": "code",
   "execution_count": null,
   "metadata": {},
   "outputs": [],
   "source": [
    "# Save a dictionary into a pickle file.\n",
    "import pickle\n",
    "\n",
    "pickle.dump(lda_model_10, open(\"mode1_10_345\", \"wb\" ))"
   ]
  },
  {
   "cell_type": "code",
   "execution_count": null,
   "metadata": {},
   "outputs": [],
   "source": []
  },
  {
   "cell_type": "code",
   "execution_count": 2,
   "metadata": {},
   "outputs": [],
   "source": [
    "import pickle\n",
    "lda_model_10 = pickle.load( open( \"mode1_10_345\", \"rb\" ) )\n",
    "# favorite_color is now { \"lion\": \"yellow\", \"kitty\": \"red\" }"
   ]
  },
  {
   "cell_type": "code",
   "execution_count": 5,
   "metadata": {},
   "outputs": [
    {
     "name": "stdout",
     "output_type": "stream",
     "text": [
      "[(0,\n",
      "  '0.054*\"home\" + 0.049*\"be\" + 0.042*\"live\" + 0.026*\"well\" + 0.025*\"positive\" '\n",
      "  '+ 0.021*\"safe\" + 0.018*\"economy\" + 0.018*\"stimulus\" + 0.018*\"leader\" + '\n",
      "  '0.016*\"continue\"'),\n",
      " (1,\n",
      "  '0.043*\"die\" + 0.042*\"article\" + 0.030*\"business\" + 0.030*\"let\" + '\n",
      "  '0.025*\"close\" + 0.023*\"year\" + 0.020*\"work\" + 0.020*\"battle\" + 0.016*\"find\" '\n",
      "  '+ 0.015*\"public\"'),\n",
      " (2,\n",
      "  '0.024*\"video\" + 0.022*\"must\" + 0.021*\"order\" + 0.019*\"share\" + '\n",
      "  '0.019*\"check\" + 0.018*\"spread\" + 0.016*\"face\" + 0.016*\"top\" + '\n",
      "  '0.016*\"affect\" + 0.016*\"issue\"'),\n",
      " (3,\n",
      "  '0.032*\"try\" + 0.027*\"start\" + 0.026*\"right\" + 0.024*\"hour\" + 0.022*\"hit\" + '\n",
      "  '0.021*\"talk\" + 0.021*\"end\" + 0.020*\"relief\" + 0.019*\"hard\" + 0.017*\"never\"'),\n",
      " (4,\n",
      "  '0.041*\"trump\" + 0.024*\"thing\" + 0.024*\"keep\" + 0.020*\"even\" + '\n",
      "  '0.020*\"health\" + 0.019*\"take\" + 0.019*\"family\" + 0.017*\"money\" + '\n",
      "  '0.017*\"crisis\" + 0.017*\"much\"'),\n",
      " (5,\n",
      "  '0.067*\"think\" + 0.040*\"bad\" + 0.025*\"also\" + 0.022*\"see\" + 0.022*\"thank\" + '\n",
      "  '0.022*\"ask\" + 0.020*\"next\" + 0.019*\"outbreak\" + 0.018*\"away\" + '\n",
      "  '0.016*\"hear\"'),\n",
      " (6,\n",
      "  '0.081*\"say\" + 0.061*\"get\" + 0.039*\"patient\" + 0.033*\"s\" + 0.026*\"doctor\" + '\n",
      "  '0.023*\"tell\" + 0.023*\"show\" + 0.022*\"care\" + 0.018*\"can\" + 0.015*\"plan\"'),\n",
      " (7,\n",
      "  '0.125*\"virus\" + 0.050*\"go\" + 0.044*\"need\" + 0.028*\"come\" + 0.027*\"fight\" + '\n",
      "  '0.019*\"call\" + 0.017*\"really\" + 0.016*\"coronavirus\" + 0.012*\"day\" + '\n",
      "  '0.012*\"country\"'),\n",
      " (8,\n",
      "  '0.036*\"week\" + 0.035*\"life\" + 0.028*\"symptom\" + 0.025*\"emergency\" + '\n",
      "  '0.024*\"person\" + 0.020*\"save\" + 0.019*\"claim\" + 0.019*\"post\" + '\n",
      "  '0.018*\"travel\" + 0.017*\"enough\"'),\n",
      " (9,\n",
      "  '0.041*\"case\" + 0.035*\"death\" + 0.028*\"make\" + 0.023*\"hospital\" + '\n",
      "  '0.022*\"give\" + 0.019*\"test\" + 0.017*\"state\" + 0.015*\"watch\" + 0.014*\"vote\" '\n",
      "  '+ 0.014*\"lockdown\"')]\n"
     ]
    }
   ],
   "source": [
    "optimal_model = lda_model_10\n",
    "model_topics = optimal_model.show_topics(formatted=False)\n",
    "pprint(optimal_model.print_topics(num_words=10))"
   ]
  },
  {
   "cell_type": "code",
   "execution_count": 42,
   "metadata": {},
   "outputs": [
    {
     "name": "stderr",
     "output_type": "stream",
     "text": [
      "/Users/braytonhall/opt/anaconda3/lib/python3.7/site-packages/pyLDAvis/_prepare.py:257: FutureWarning: Sorting because non-concatenation axis is not aligned. A future version\n",
      "of pandas will change to not sort by default.\n",
      "\n",
      "To accept the future behavior, pass 'sort=False'.\n",
      "\n",
      "To retain the current behavior and silence the warning, pass 'sort=True'.\n",
      "\n",
      "  return pd.concat([default_term_info] + list(topic_dfs))\n"
     ]
    },
    {
     "data": {
      "text/html": [
       "\n",
       "<link rel=\"stylesheet\" type=\"text/css\" href=\"https://cdn.rawgit.com/bmabey/pyLDAvis/files/ldavis.v1.0.0.css\">\n",
       "\n",
       "\n",
       "<div id=\"ldavis_el150601124590053926801588307\"></div>\n",
       "<script type=\"text/javascript\">\n",
       "\n",
       "var ldavis_el150601124590053926801588307_data = {\"mdsDat\": {\"x\": [0.4348803512701966, -0.0164360855463212, -0.008697868958442668, -0.05583115482760252, -0.05556121614322342, -0.05818722866716415, -0.060748226290372874, -0.06002877662643194, -0.059275890156281055, -0.06011390405435624], \"y\": [-0.008759006520949275, 0.3848607819630113, -0.23821690857421504, -0.023276164822103373, -0.018575913363543986, -0.017172334541159576, -0.017951975736717845, -0.020547920591857578, -0.021895653436930947, -0.018464904375533994], \"topics\": [1, 2, 3, 4, 5, 6, 7, 8, 9, 10], \"cluster\": [1, 1, 1, 1, 1, 1, 1, 1, 1, 1], \"Freq\": [17.28896713256836, 13.674148559570312, 13.601151466369629, 9.322549819946289, 8.751751899719238, 8.330492973327637, 8.131811141967773, 7.925282955169678, 7.1667656898498535, 5.807082176208496]}, \"tinfo\": {\"Category\": [\"Default\", \"Default\", \"Default\", \"Default\", \"Default\", \"Default\", \"Default\", \"Default\", \"Default\", \"Default\", \"Default\", \"Default\", \"Default\", \"Default\", \"Default\", \"Default\", \"Default\", \"Default\", \"Default\", \"Default\", \"Default\", \"Default\", \"Default\", \"Default\", \"Default\", \"Default\", \"Default\", \"Default\", \"Default\", \"Default\", \"Topic1\", \"Topic1\", \"Topic1\", \"Topic1\", \"Topic1\", \"Topic1\", \"Topic1\", \"Topic1\", \"Topic1\", \"Topic1\", \"Topic1\", \"Topic1\", \"Topic1\", \"Topic1\", \"Topic1\", \"Topic1\", \"Topic1\", \"Topic1\", \"Topic1\", \"Topic1\", \"Topic1\", \"Topic1\", \"Topic1\", \"Topic1\", \"Topic1\", \"Topic1\", \"Topic1\", \"Topic1\", \"Topic1\", \"Topic1\", \"Topic2\", \"Topic2\", \"Topic2\", \"Topic2\", \"Topic2\", \"Topic2\", \"Topic2\", \"Topic2\", \"Topic2\", \"Topic2\", \"Topic2\", \"Topic2\", \"Topic2\", \"Topic2\", \"Topic2\", \"Topic2\", \"Topic2\", \"Topic2\", \"Topic2\", \"Topic2\", \"Topic2\", \"Topic2\", \"Topic2\", \"Topic2\", \"Topic2\", \"Topic2\", \"Topic2\", \"Topic2\", \"Topic2\", \"Topic2\", \"Topic3\", \"Topic3\", \"Topic3\", \"Topic3\", \"Topic3\", \"Topic3\", \"Topic3\", \"Topic3\", \"Topic3\", \"Topic3\", \"Topic3\", \"Topic3\", \"Topic3\", \"Topic3\", \"Topic3\", \"Topic3\", \"Topic3\", \"Topic3\", \"Topic3\", \"Topic3\", \"Topic3\", \"Topic3\", \"Topic3\", \"Topic3\", \"Topic3\", \"Topic3\", \"Topic3\", \"Topic3\", \"Topic3\", \"Topic3\", \"Topic4\", \"Topic4\", \"Topic4\", \"Topic4\", \"Topic4\", \"Topic4\", \"Topic4\", \"Topic4\", \"Topic4\", \"Topic4\", \"Topic4\", \"Topic4\", \"Topic4\", \"Topic4\", \"Topic4\", \"Topic4\", \"Topic4\", \"Topic4\", \"Topic4\", \"Topic4\", \"Topic4\", \"Topic4\", \"Topic4\", \"Topic4\", \"Topic4\", \"Topic4\", \"Topic4\", \"Topic4\", \"Topic4\", \"Topic4\", \"Topic5\", \"Topic5\", \"Topic5\", \"Topic5\", \"Topic5\", \"Topic5\", \"Topic5\", \"Topic5\", \"Topic5\", \"Topic5\", \"Topic5\", \"Topic5\", \"Topic5\", \"Topic5\", \"Topic5\", \"Topic5\", \"Topic5\", \"Topic5\", \"Topic5\", \"Topic5\", \"Topic5\", \"Topic5\", \"Topic5\", \"Topic5\", \"Topic5\", \"Topic5\", \"Topic5\", \"Topic5\", \"Topic5\", \"Topic5\", \"Topic6\", \"Topic6\", \"Topic6\", \"Topic6\", \"Topic6\", \"Topic6\", \"Topic6\", \"Topic6\", \"Topic6\", \"Topic6\", \"Topic6\", \"Topic6\", \"Topic6\", \"Topic6\", \"Topic6\", \"Topic6\", \"Topic6\", \"Topic6\", \"Topic6\", \"Topic6\", \"Topic6\", \"Topic6\", \"Topic6\", \"Topic6\", \"Topic6\", \"Topic6\", \"Topic6\", \"Topic6\", \"Topic6\", \"Topic6\", \"Topic7\", \"Topic7\", \"Topic7\", \"Topic7\", \"Topic7\", \"Topic7\", \"Topic7\", \"Topic7\", \"Topic7\", \"Topic7\", \"Topic7\", \"Topic7\", \"Topic7\", \"Topic7\", \"Topic7\", \"Topic7\", \"Topic7\", \"Topic7\", \"Topic7\", \"Topic7\", \"Topic7\", \"Topic7\", \"Topic7\", \"Topic7\", \"Topic7\", \"Topic7\", \"Topic7\", \"Topic7\", \"Topic7\", \"Topic7\", \"Topic8\", \"Topic8\", \"Topic8\", \"Topic8\", \"Topic8\", \"Topic8\", \"Topic8\", \"Topic8\", \"Topic8\", \"Topic8\", \"Topic8\", \"Topic8\", \"Topic8\", \"Topic8\", \"Topic8\", \"Topic8\", \"Topic8\", \"Topic8\", \"Topic8\", \"Topic8\", \"Topic8\", \"Topic8\", \"Topic8\", \"Topic8\", \"Topic8\", \"Topic8\", \"Topic8\", \"Topic8\", \"Topic8\", \"Topic8\", \"Topic9\", \"Topic9\", \"Topic9\", \"Topic9\", \"Topic9\", \"Topic9\", \"Topic9\", \"Topic9\", \"Topic9\", \"Topic9\", \"Topic9\", \"Topic9\", \"Topic9\", \"Topic9\", \"Topic9\", \"Topic9\", \"Topic9\", \"Topic9\", \"Topic9\", \"Topic9\", \"Topic9\", \"Topic9\", \"Topic9\", \"Topic9\", \"Topic9\", \"Topic9\", \"Topic9\", \"Topic9\", \"Topic9\", \"Topic9\", \"Topic10\", \"Topic10\", \"Topic10\", \"Topic10\", \"Topic10\", \"Topic10\", \"Topic10\", \"Topic10\", \"Topic10\", \"Topic10\", \"Topic10\", \"Topic10\", \"Topic10\", \"Topic10\", \"Topic10\", \"Topic10\", \"Topic10\", \"Topic10\", \"Topic10\", \"Topic10\", \"Topic10\", \"Topic10\", \"Topic10\", \"Topic10\", \"Topic10\", \"Topic10\", \"Topic10\", \"Topic10\", \"Topic10\", \"Topic10\"], \"Freq\": [5364.0, 2385.0, 2157.0, 1798.0, 1500.0, 2225.0, 1887.0, 1780.0, 1403.0, 1908.0, 1283.0, 1172.0, 1169.0, 1095.0, 1139.0, 1520.0, 902.0, 1185.0, 962.0, 1141.0, 1238.0, 1213.0, 1052.0, 823.0, 1035.0, 814.0, 813.0, 666.0, 1053.0, 771.0, 2225.020263671875, 1907.7843017578125, 1519.290283203125, 1237.63232421875, 1212.7855224609375, 1052.2176513671875, 929.6433715820312, 816.74609375, 772.5751953125, 762.1066284179688, 732.2528076171875, 712.338134765625, 685.595458984375, 662.9774169921875, 632.4456787109375, 551.9559326171875, 539.631103515625, 533.4885864257812, 506.1883239746094, 506.1744079589844, 502.4299621582031, 502.3460388183594, 489.78466796875, 476.7657470703125, 470.741943359375, 465.4317932128906, 451.0943908691406, 451.015869140625, 441.0765686035156, 421.14849853515625, 1779.1239013671875, 1051.380615234375, 1034.189697265625, 860.1515502929688, 848.601318359375, 823.4703979492188, 798.6845703125, 750.2303466796875, 733.1397094726562, 715.8807983398438, 632.3461303710938, 624.5926513671875, 549.862060546875, 516.2418212890625, 505.1808776855469, 473.57647705078125, 460.12744140625, 446.1211853027344, 426.601318359375, 424.0332336425781, 421.8988342285156, 410.2861022949219, 400.07781982421875, 394.78485107421875, 382.06854248046875, 377.7491760253906, 368.80364990234375, 367.4933776855469, 364.7837829589844, 345.2351379394531, 5363.62744140625, 2156.470703125, 1886.472900390625, 1184.94140625, 1140.5400390625, 823.3297119140625, 710.2290649414062, 691.3292846679688, 521.8916625976562, 518.176025390625, 489.1629943847656, 483.5832214355469, 425.4975280761719, 413.5025329589844, 378.5434265136719, 376.2937316894531, 363.9508972167969, 356.84246826171875, 331.88116455078125, 318.333984375, 316.6685791015625, 303.9177551269531, 298.7872314453125, 289.37689208984375, 285.57781982421875, 282.64361572265625, 258.6104431152344, 258.2955017089844, 240.47555541992188, 228.37770080566406, 2385.047607421875, 1797.9326171875, 1138.8280029296875, 961.6949462890625, 770.9818115234375, 683.5966186523438, 660.4125366210938, 638.4351806640625, 514.99072265625, 451.6024475097656, 418.959228515625, 418.55511474609375, 383.6661376953125, 311.1133117675781, 310.19293212890625, 286.22100830078125, 279.4274597167969, 262.14373779296875, 257.73333740234375, 255.52084350585938, 248.3579864501953, 246.17547607421875, 242.04440307617188, 237.7989959716797, 230.9624481201172, 221.1612548828125, 215.28736877441406, 213.30743408203125, 199.2373809814453, 198.5479736328125, 1171.1016845703125, 1168.396484375, 813.818359375, 812.7976684570312, 678.6893920898438, 626.0419311523438, 554.2720947265625, 547.5776977539062, 449.18157958984375, 423.0931091308594, 415.1235656738281, 405.24957275390625, 398.2187194824219, 384.66131591796875, 357.62298583984375, 352.8444519042969, 349.41357421875, 339.98095703125, 314.7220458984375, 304.11083984375, 289.2193603515625, 276.5570983886719, 274.95794677734375, 263.2611083984375, 263.0210876464844, 262.55218505859375, 260.7897644042969, 257.3344421386719, 215.0515594482422, 211.52699279785156, 1402.155029296875, 1283.0037841796875, 1095.01513671875, 685.8750610351562, 664.0137939453125, 541.313720703125, 473.8448791503906, 464.5082702636719, 463.9034729003906, 415.1869812011719, 401.5898742675781, 375.0625305175781, 374.72705078125, 367.5904235839844, 350.94091796875, 334.7408447265625, 329.01312255859375, 314.7784118652344, 302.2121276855469, 293.787109375, 287.9137268066406, 252.96621704101562, 245.3538818359375, 242.7227325439453, 242.61199951171875, 239.89637756347656, 235.50750732421875, 234.87179565429688, 220.06703186035156, 215.03321838378906, 823.032958984375, 685.0684204101562, 667.3338623046875, 605.2548217773438, 557.03955078125, 540.4374389648438, 538.609375, 502.8275146484375, 495.67669677734375, 445.66998291015625, 414.2037658691406, 410.6395263671875, 392.9083557128906, 388.9765319824219, 365.95068359375, 334.1690368652344, 325.41357421875, 315.83251953125, 296.45440673828125, 270.3034973144531, 264.9834899902344, 254.7191162109375, 253.3820343017578, 251.96743774414062, 238.42367553710938, 236.0887908935547, 235.66700744628906, 235.35955810546875, 229.64915466308594, 219.3178253173828, 592.5192260742188, 554.3463134765625, 526.0715942382812, 478.4780578613281, 476.92523193359375, 460.44085693359375, 404.4345397949219, 393.1138610839844, 389.48883056640625, 389.0559997558594, 372.2315368652344, 358.1222839355469, 356.0032653808594, 351.3474426269531, 333.6887512207031, 320.26702880859375, 296.9569091796875, 284.2370910644531, 277.54742431640625, 269.7901306152344, 258.777099609375, 252.9853515625, 244.06297302246094, 238.53414916992188, 228.18409729003906, 226.1416778564453, 224.38438415527344, 223.74395751953125, 217.8349151611328, 211.52481079101562, 1499.7457275390625, 901.2262573242188, 566.7720336914062, 499.1330871582031, 489.8509826660156, 489.39788818359375, 443.0165100097656, 419.2042541503906, 402.1322021484375, 361.74517822265625, 341.7557373046875, 332.3144226074219, 325.1258544921875, 323.62237548828125, 317.8179016113281, 311.977294921875, 305.8207092285156, 282.3666076660156, 280.63983154296875, 280.5836486816406, 277.9063720703125, 268.2935791015625, 260.1194763183594, 244.3670654296875, 238.62844848632812, 235.72567749023438, 215.00645446777344, 201.81787109375, 200.85769653320312, 198.33621215820312, 665.13818359375, 633.917236328125, 506.4039001464844, 463.1419982910156, 430.5546569824219, 360.7669982910156, 353.0042724609375, 352.69512939453125, 335.3124694824219, 317.0388488769531, 287.7344055175781, 285.4446105957031, 252.50904846191406, 249.09738159179688, 238.9497833251953, 225.53244018554688, 222.3109130859375, 219.37277221679688, 215.81446838378906, 203.18362426757812, 203.17088317871094, 192.1722869873047, 187.97154235839844, 186.02713012695312, 185.96624755859375, 180.7837371826172, 173.220703125, 164.56832885742188, 159.5408935546875, 152.21873474121094], \"Term\": [\"virus\", \"say\", \"go\", \"get\", \"think\", \"case\", \"need\", \"trump\", \"home\", \"death\", \"be\", \"die\", \"article\", \"live\", \"patient\", \"make\", \"bad\", \"come\", \"s\", \"fight\", \"hospital\", \"give\", \"thing\", \"try\", \"keep\", \"business\", \"let\", \"week\", \"test\", \"doctor\", \"case\", \"death\", \"make\", \"hospital\", \"give\", \"test\", \"state\", \"watch\", \"vote\", \"lockdown\", \"update\", \"look\", \"report\", \"late\", \"pay\", \"put\", \"break\", \"number\", \"way\", \"confirm\", \"big\", \"happen\", \"rate\", \"event\", \"leave\", \"lie\", \"question\", \"response\", \"believe\", \"kill\", \"trump\", \"thing\", \"keep\", \"even\", \"health\", \"take\", \"family\", \"money\", \"crisis\", \"much\", \"read\", \"worker\", \"pandemic\", \"month\", \"hold\", \"protect\", \"have\", \"expert\", \"know\", \"disease\", \"whole\", \"open\", \"medical\", \"blame\", \"official\", \"global\", \"friend\", \"learn\", \"follow\", \"point\", \"virus\", \"go\", \"need\", \"come\", \"fight\", \"call\", \"really\", \"coronavirus\", \"day\", \"country\", \"love\", \"deadly\", \"job\", \"fear\", \"hand\", \"politic\", \"change\", \"pass\", \"possible\", \"donate\", \"shit\", \"vaccine\", \"city\", \"always\", \"cure\", \"risk\", \"yet\", \"prepare\", \"ventilator\", \"cancel\", \"say\", \"get\", \"patient\", \"s\", \"doctor\", \"tell\", \"show\", \"care\", \"can\", \"plan\", \"mask\", \"lose\", \"employee\", \"html\", \"chinese\", \"young\", \"american\", \"guy\", \"increase\", \"kid\", \"drug\", \"briefing\", \"fail\", \"air\", \"treat\", \"million\", \"history\", \"member\", \"school\", \"safety\", \"die\", \"article\", \"business\", \"let\", \"close\", \"year\", \"work\", \"battle\", \"find\", \"public\", \"bring\", \"woman\", \"man\", \"last\", \"sign\", \"cause\", \"lot\", \"treatment\", \"become\", \"opinion\", \"good\", \"return\", \"recover\", \"offer\", \"important\", \"struggle\", \"slow\", \"begin\", \"time\", \"facility\", \"home\", \"be\", \"live\", \"well\", \"positive\", \"safe\", \"economy\", \"stimulus\", \"leader\", \"continue\", \"place\", \"long\", \"medium\", \"economic\", \"provide\", \"nation\", \"hope\", \"support\", \"unemployment\", \"information\", \"host\", \"will\", \"community\", \"force\", \"other\", \"low\", \"less\", \"child\", \"action\", \"shelter\", \"try\", \"start\", \"right\", \"hour\", \"hit\", \"talk\", \"end\", \"relief\", \"hard\", \"never\", \"use\", \"feel\", \"situation\", \"want\", \"food\", \"package\", \"concern\", \"tip\", \"deal\", \"shut\", \"great\", \"supply\", \"dangerous\", \"name\", \"add\", \"fact\", \"able\", \"warehouse\", \"word\", \"eat\", \"video\", \"must\", \"order\", \"share\", \"check\", \"spread\", \"face\", \"top\", \"affect\", \"issue\", \"real\", \"local\", \"poor\", \"least\", \"impact\", \"control\", \"quarantine\", \"student\", \"novel\", \"full\", \"soon\", \"online\", \"warn\", \"closure\", \"fast\", \"seek\", \"write\", \"staff\", \"store\", \"relate\", \"think\", \"bad\", \"also\", \"see\", \"thank\", \"ask\", \"next\", \"outbreak\", \"away\", \"hear\", \"sick\", \"buy\", \"help\", \"together\", \"dead\", \"testing\", \"run\", \"play\", \"seem\", \"wait\", \"turn\", \"infection\", \"speak\", \"serious\", \"clean\", \"message\", \"fan\", \"problem\", \"develop\", \"rich\", \"week\", \"life\", \"symptom\", \"emergency\", \"person\", \"save\", \"claim\", \"post\", \"travel\", \"enough\", \"service\", \"suspend\", \"part\", \"here\", \"catch\", \"cut\", \"effort\", \"discuss\", \"mind\", \"instead\", \"heart\", \"contain\", \"flu\", \"prevent\", \"industry\", \"celebrity\", \"tomorrow\", \"cough\", \"contract\", \"law\"], \"Total\": [5364.0, 2385.0, 2157.0, 1798.0, 1500.0, 2225.0, 1887.0, 1780.0, 1403.0, 1908.0, 1283.0, 1172.0, 1169.0, 1095.0, 1139.0, 1520.0, 902.0, 1185.0, 962.0, 1141.0, 1238.0, 1213.0, 1052.0, 823.0, 1035.0, 814.0, 813.0, 666.0, 1053.0, 771.0, 2225.949951171875, 1908.7144775390625, 1520.220458984375, 1238.5625, 1213.7158203125, 1053.1478271484375, 930.5733642578125, 817.6760864257812, 773.505126953125, 763.03662109375, 733.1828002929688, 713.2681884765625, 686.525390625, 663.907470703125, 633.375732421875, 552.885986328125, 540.5610961914062, 534.4185180664062, 507.1183166503906, 507.1044006347656, 503.36004638671875, 503.2760925292969, 490.7147216796875, 477.6957702636719, 471.6719665527344, 466.36181640625, 452.02447509765625, 451.9458923339844, 442.0066223144531, 422.0784912109375, 1780.059326171875, 1052.316162109375, 1035.125244140625, 861.0868530273438, 849.53662109375, 824.4057006835938, 799.619873046875, 751.1656494140625, 734.0750122070312, 716.816162109375, 633.2814331054688, 625.5279541015625, 550.7973022460938, 517.1771240234375, 506.1161804199219, 474.5117492675781, 461.06280517578125, 447.0565185546875, 427.5365905761719, 424.968505859375, 422.8341369628906, 411.2214050292969, 401.01312255859375, 395.72021484375, 383.0038146972656, 378.6844482421875, 369.7389831542969, 368.42864990234375, 365.71905517578125, 346.1704406738281, 5364.5625, 2157.40576171875, 1887.4080810546875, 1185.8765869140625, 1141.4752197265625, 824.264892578125, 711.1642456054688, 692.2644653320312, 522.8268432617188, 519.1112060546875, 490.0981750488281, 484.5183410644531, 426.4326171875, 414.4376220703125, 379.47857666015625, 377.2288513183594, 364.88604736328125, 357.7776184082031, 332.81634521484375, 319.2690734863281, 317.60369873046875, 304.8528747558594, 299.72235107421875, 290.3121032714844, 286.512939453125, 283.5787048339844, 259.5456237792969, 259.2305908203125, 241.41070556640625, 229.31283569335938, 2385.986083984375, 1798.8714599609375, 1139.766845703125, 962.6337890625, 771.9205932617188, 684.535400390625, 661.3513793945312, 639.3740234375, 515.9295654296875, 452.5412292480469, 419.89801025390625, 419.493896484375, 384.6048889160156, 312.0521545410156, 311.1317443847656, 287.15985107421875, 280.36627197265625, 263.0825500488281, 258.6721496582031, 256.45965576171875, 249.2967987060547, 247.11427307128906, 242.9833221435547, 238.73777770996094, 231.90118408203125, 222.1001434326172, 216.22616577148438, 214.24627685546875, 200.17611694335938, 199.48678588867188, 1172.0350341796875, 1169.329833984375, 814.751708984375, 813.7310180664062, 679.6227416992188, 626.9752807617188, 555.2054443359375, 548.5110473632812, 450.1148681640625, 424.0263977050781, 416.056884765625, 406.1829528808594, 399.1520080566406, 385.5946044921875, 358.5562744140625, 353.7777404785156, 350.3470153808594, 340.91424560546875, 315.65533447265625, 305.044189453125, 290.15264892578125, 277.4904479980469, 275.8912658691406, 264.1944274902344, 263.95440673828125, 263.4855651855469, 261.7231140136719, 258.2677307128906, 215.98487854003906, 212.4604034423828, 1403.09228515625, 1283.9410400390625, 1095.952392578125, 686.812255859375, 664.9509887695312, 542.2509155273438, 474.7821044921875, 465.4454345703125, 464.8406677246094, 416.1241455078125, 402.52703857421875, 375.99981689453125, 375.6642150878906, 368.5276184082031, 351.8781433105469, 335.6780700683594, 329.9502868652344, 315.715576171875, 303.1493225097656, 294.724365234375, 288.8509826660156, 253.90342712402344, 246.29110717773438, 243.6599884033203, 243.5491943359375, 240.8336639404297, 236.4447784423828, 235.80899047851562, 221.0043182373047, 215.97039794921875, 823.9710083007812, 686.0064086914062, 668.2719116210938, 606.19287109375, 557.9775390625, 541.3754272460938, 539.54736328125, 503.7654724121094, 496.6147155761719, 446.6080322265625, 415.1417236328125, 411.5774841308594, 393.8464050292969, 389.91448974609375, 366.888671875, 335.1070251464844, 326.3515930175781, 316.7705078125, 297.3924255371094, 271.2416076660156, 265.92144775390625, 255.6571807861328, 254.320068359375, 252.90545654296875, 239.36166381835938, 237.0267791748047, 236.60504150390625, 236.2976837158203, 230.58712768554688, 220.25582885742188, 593.4547729492188, 555.2817993164062, 527.007080078125, 479.41351318359375, 477.8607177734375, 461.3763427734375, 405.37005615234375, 394.0494079589844, 390.4244384765625, 389.9914855957031, 373.1670837402344, 359.0577697753906, 356.93890380859375, 352.282958984375, 334.6242370605469, 321.20263671875, 297.8924560546875, 285.172607421875, 278.4830017089844, 270.72564697265625, 259.712646484375, 253.92088317871094, 244.9984130859375, 239.4696502685547, 229.11962890625, 227.07728576660156, 225.3199462890625, 224.67947387695312, 218.77052307128906, 212.46035766601562, 1500.6824951171875, 902.1629028320312, 567.7086791992188, 500.0697326660156, 490.78759765625, 490.33453369140625, 443.95318603515625, 420.1408996582031, 403.06884765625, 362.68182373046875, 342.6923522949219, 333.25103759765625, 326.0624694824219, 324.55908203125, 318.7545166015625, 312.91387939453125, 306.7573547363281, 283.3032531738281, 281.5765075683594, 281.5203857421875, 278.843017578125, 269.2301940917969, 261.0561218261719, 245.30372619628906, 239.56520080566406, 236.66226196289062, 215.9431610107422, 202.7545166015625, 201.7943878173828, 199.2729034423828, 666.0770263671875, 634.8560791015625, 507.3427429199219, 464.0809020996094, 431.4935302734375, 361.7058410644531, 353.9430847167969, 353.634033203125, 336.2513427734375, 317.9776916503906, 288.67327880859375, 286.3834228515625, 253.44793701171875, 250.0363006591797, 239.88858032226562, 226.47128295898438, 223.249755859375, 220.31173706054688, 216.75340270996094, 204.12246704101562, 204.10980224609375, 193.1111297607422, 188.91038513183594, 186.96595764160156, 186.9050750732422, 181.72264099121094, 174.1595916748047, 165.50714111328125, 160.479736328125, 153.15753173828125], \"loglift\": [30.0, 29.0, 28.0, 27.0, 26.0, 25.0, 24.0, 23.0, 22.0, 21.0, 20.0, 19.0, 18.0, 17.0, 16.0, 15.0, 14.0, 13.0, 12.0, 11.0, 10.0, 9.0, 8.0, 7.0, 6.0, 5.0, 4.0, 3.0, 2.0, 1.0, 1.754699945449829, 1.7546000480651855, 1.7545000314712524, 1.7544000148773193, 1.7542999982833862, 1.7541999816894531, 1.75409996509552, 1.753999948501587, 1.7539000511169434, 1.7539000511169434, 1.7538000345230103, 1.7538000345230103, 1.7537000179290771, 1.7537000179290771, 1.753600001335144, 1.7533999681472778, 1.7533999681472778, 1.7533999681472778, 1.7532999515533447, 1.7532999515533447, 1.7532999515533447, 1.7532999515533447, 1.7532000541687012, 1.7532000541687012, 1.753100037574768, 1.753100037574768, 1.753000020980835, 1.753000020980835, 1.753000020980835, 1.7529000043869019, 1.9890999794006348, 1.988800048828125, 1.988800048828125, 1.9886000156402588, 1.9886000156402588, 1.9884999990463257, 1.9884999990463257, 1.9883999824523926, 1.9883999824523926, 1.9883999824523926, 1.9881999492645264, 1.9881999492645264, 1.9880000352859497, 1.9879000186920166, 1.9878000020980835, 1.9876999855041504, 1.9875999689102173, 1.9875999689102173, 1.9874999523162842, 1.9874999523162842, 1.9874000549316406, 1.9874000549316406, 1.9873000383377075, 1.9873000383377075, 1.9872000217437744, 1.9872000217437744, 1.9871000051498413, 1.9871000051498413, 1.9871000051498413, 1.9869999885559082, 1.9947999715805054, 1.9946000576019287, 1.9945000410079956, 1.9941999912261963, 1.9941999912261963, 1.993899941444397, 1.9937000274658203, 1.9937000274658203, 1.9931999444961548, 1.9931999444961548, 1.9931000471115112, 1.9931000471115112, 1.992799997329712, 1.992799997329712, 1.9924999475479126, 1.9924999475479126, 1.992400050163269, 1.992400050163269, 1.9922000169754028, 1.9921000003814697, 1.9921000003814697, 1.9918999671936035, 1.9918999671936035, 1.9917999505996704, 1.9917000532150269, 1.9917000532150269, 1.9914000034332275, 1.9914000034332275, 1.9910999536514282, 1.9909000396728516, 2.372299909591675, 2.3722000122070312, 2.3719000816345215, 2.371799945831299, 2.371500015258789, 2.3714001178741455, 2.371299982070923, 2.371299982070923, 2.3708999156951904, 2.370699882507324, 2.370500087738037, 2.370500087738037, 2.370300054550171, 2.3696999549865723, 2.3696999549865723, 2.369499921798706, 2.3694000244140625, 2.3691999912261963, 2.3691000938415527, 2.3691000938415527, 2.36899995803833, 2.3689000606536865, 2.3689000606536865, 2.368799924850464, 2.3687000274658203, 2.368499994277954, 2.3684000968933105, 2.368299961090088, 2.368000030517578, 2.368000030517578, 2.4351000785827637, 2.4351000785827637, 2.434799909591675, 2.434799909591675, 2.434499979019165, 2.4344000816345215, 2.4342000484466553, 2.4342000484466553, 2.433799982070923, 2.4337000846862793, 2.4337000846862793, 2.4335999488830566, 2.4335999488830566, 2.433500051498413, 2.433300018310547, 2.433300018310547, 2.433199882507324, 2.433199882507324, 2.433000087738037, 2.4328999519348145, 2.4326999187469482, 2.432499885559082, 2.432499885559082, 2.4323999881744385, 2.4323999881744385, 2.4323999881744385, 2.432300090789795, 2.432300090789795, 2.4316000938415527, 2.43149995803833, 2.484600067138672, 2.484499931335449, 2.4844000339508057, 2.4839000701904297, 2.483799934387207, 2.4835000038146973, 2.483299970626831, 2.4832000732421875, 2.4832000732421875, 2.4830000400543213, 2.4828999042510986, 2.482800006866455, 2.482800006866455, 2.4827001094818115, 2.482599973678589, 2.4825000762939453, 2.4823999404907227, 2.482300043106079, 2.4821999073028564, 2.482100009918213, 2.4820001125335693, 2.4814999103546143, 2.4814000129699707, 2.4814000129699707, 2.4814000129699707, 2.481300115585327, 2.481300115585327, 2.481300115585327, 2.4809999465942383, 2.4809000492095947, 2.50819993019104, 2.507999897003174, 2.507999897003174, 2.5078001022338867, 2.507699966430664, 2.507699966430664, 2.5076000690460205, 2.507499933242798, 2.507499933242798, 2.5072999000549316, 2.5071001052856445, 2.5071001052856445, 2.506999969482422, 2.506999969482422, 2.5067999362945557, 2.5065999031066895, 2.506500005722046, 2.5064001083374023, 2.506200075149536, 2.5058999061584473, 2.5058999061584473, 2.50570011138916, 2.50570011138916, 2.50570011138916, 2.505500078201294, 2.5053999423980713, 2.5053999423980713, 2.5053999423980713, 2.5053000450134277, 2.5051000118255615, 2.5334999561309814, 2.533400058746338, 2.5332999229431152, 2.5332000255584717, 2.5332000255584717, 2.533099889755249, 2.5327999591827393, 2.5327000617980957, 2.5327000617980957, 2.5327000617980957, 2.532599925994873, 2.5325000286102295, 2.5325000286102295, 2.5325000286102295, 2.5322999954223633, 2.5322000980377197, 2.5320000648498535, 2.5318000316619873, 2.5316998958587646, 2.5316998958587646, 2.5315001010894775, 2.531399965286255, 2.5313000679016113, 2.5311999320983887, 2.5309998989105225, 2.5309998989105225, 2.5309998989105225, 2.530900001525879, 2.5308001041412354, 2.5306999683380127, 2.6350998878479004, 2.634700059890747, 2.6340999603271484, 2.6338000297546387, 2.6338000297546387, 2.6338000297546387, 2.6335999965667725, 2.633500099182129, 2.6333999633789062, 2.6331000328063965, 2.632999897003174, 2.6328999996185303, 2.6328001022338867, 2.6328001022338867, 2.6328001022338867, 2.632699966430664, 2.632699966430664, 2.6324000358581543, 2.6324000358581543, 2.6324000358581543, 2.6324000358581543, 2.632200002670288, 2.6321001052856445, 2.6319000720977783, 2.6317999362945557, 2.6317999362945557, 2.6314001083374023, 2.6310999393463135, 2.6310999393463135, 2.63100004196167, 2.8447000980377197, 2.844599962234497, 2.8441998958587646, 2.844099998474121, 2.843899965286255, 2.8434998989105225, 2.843400001525879, 2.843400001525879, 2.8433001041412354, 2.843100070953369, 2.8427999019622803, 2.8427999019622803, 2.842400074005127, 2.8422999382019043, 2.8422000408172607, 2.841900110244751, 2.841900110244751, 2.8417999744415283, 2.8417999744415283, 2.8415000438690186, 2.8415000438690186, 2.841200113296509, 2.841099977493286, 2.841099977493286, 2.841099977493286, 2.84089994430542, 2.8406999111175537, 2.840399980545044, 2.8401999473571777, 2.839900016784668], \"logprob\": [30.0, 29.0, 28.0, 27.0, 26.0, 25.0, 24.0, 23.0, 22.0, 21.0, 20.0, 19.0, 18.0, 17.0, 16.0, 15.0, 14.0, 13.0, 12.0, 11.0, 10.0, 9.0, 8.0, 7.0, 6.0, 5.0, 4.0, 3.0, 2.0, 1.0, -3.19569993019104, -3.3494999408721924, -3.577199935913086, -3.7822000980377197, -3.802500009536743, -3.944499969482422, -4.068399906158447, -4.19789981842041, -4.253499984741211, -4.267099857330322, -4.30709981918335, -4.33459997177124, -4.372900009155273, -4.406400203704834, -4.45359992980957, -4.589700222015381, -4.612299919128418, -4.623799800872803, -4.676300048828125, -4.676300048828125, -4.683700084686279, -4.683899879455566, -4.709199905395508, -4.736199855804443, -4.748899936676025, -4.760200023651123, -4.791500091552734, -4.7916998863220215, -4.814000129699707, -4.860199928283691, -3.184799909591675, -3.7107999324798584, -3.727299928665161, -3.9114999771118164, -3.924999952316284, -3.9551000595092773, -3.9856998920440674, -4.0482001304626465, -4.071300029754639, -4.095099925994873, -4.219200134277344, -4.231500148773193, -4.359000205993652, -4.422100067138672, -4.443699836730957, -4.508299827575684, -4.537099838256836, -4.567999839782715, -4.612800121307373, -4.618800163269043, -4.623899936676025, -4.651800155639648, -4.677000045776367, -4.690299987792969, -4.7230000495910645, -4.734399795532227, -4.758399963378906, -4.761899948120117, -4.7692999839782715, -4.824399948120117, -2.075900077819824, -2.986999988555908, -3.120800018310547, -3.5857999324798584, -3.624000072479248, -3.949899911880493, -4.097700119018555, -4.12470006942749, -4.405799865722656, -4.413000106811523, -4.470600128173828, -4.482100009918213, -4.610000133514404, -4.638599872589111, -4.726900100708008, -4.732900142669678, -4.766300201416016, -4.785999774932861, -4.858500003814697, -4.900199890136719, -4.905399799346924, -4.946499824523926, -4.963500022888184, -4.995500087738037, -5.008800029754639, -5.019100189208984, -5.107999801635742, -5.1092000007629395, -5.180699825286865, -5.2322998046875, -2.5085999965667725, -2.7911999225616455, -3.24780011177063, -3.4168999195098877, -3.6379001140594482, -3.75819993019104, -3.7927000522613525, -3.8264999389648438, -4.041399955749512, -4.172800064086914, -4.247799873352051, -4.248700141906738, -4.3358001708984375, -4.545400142669678, -4.548399925231934, -4.628799915313721, -4.6528000831604, -4.716700077056885, -4.73360013961792, -4.742300033569336, -4.770699977874756, -4.7795000076293945, -4.79640007019043, -4.8140997886657715, -4.843299865722656, -4.88670015335083, -4.913599967956543, -4.922800064086914, -4.991099834442139, -4.994500160217285, -3.1566998958587646, -3.1589999198913574, -3.5206000804901123, -3.521899938583374, -3.702199935913086, -3.7829999923706055, -3.9047000408172607, -3.9168999195098877, -4.1149001121521, -4.174799919128418, -4.19379997253418, -4.217899799346924, -4.235400199890137, -4.269999980926514, -4.342899799346924, -4.356299877166748, -4.366099834442139, -4.393499851226807, -4.470699787139893, -4.505000114440918, -4.555200099945068, -4.599999904632568, -4.605800151824951, -4.649199962615967, -4.650100231170654, -4.651899814605713, -4.658699989318848, -4.671999931335449, -4.851500034332275, -4.868000030517578, -2.927299976348877, -3.0160999298095703, -3.174499988555908, -3.6422998905181885, -3.6747000217437744, -3.878999948501587, -4.012199878692627, -4.032100200653076, -4.033400058746338, -4.1442999839782715, -4.177599906921387, -4.2459001541137695, -4.246799945831299, -4.26609992980957, -4.312399864196777, -4.3597002029418945, -4.3769001960754395, -4.421199798583984, -4.461900234222412, -4.490200042724609, -4.51039981842041, -4.639800071716309, -4.670300006866455, -4.681099891662598, -4.681600093841553, -4.692800045013428, -4.711299896240234, -4.714000225067139, -4.779099941253662, -4.802199840545654, -3.4358999729156494, -3.6194000244140625, -3.6456000804901123, -3.743299961090088, -3.8262999057769775, -3.8564999103546143, -3.8598999977111816, -3.9286999702453613, -3.943000078201294, -4.049300193786621, -4.122499942779541, -4.131199836730957, -4.175300121307373, -4.185400009155273, -4.246399879455566, -4.337299823760986, -4.363800048828125, -4.393700122833252, -4.456999778747559, -4.5493998527526855, -4.569200038909912, -4.608699798583984, -4.613999843597412, -4.61959981918335, -4.674900054931641, -4.684700012207031, -4.686500072479248, -4.68779993057251, -4.712399959564209, -4.758399963378906, -3.738800048828125, -3.8053998947143555, -3.8577001094818115, -3.9526000022888184, -3.9558000564575195, -3.990999937057495, -4.120699882507324, -4.149099826812744, -4.158299922943115, -4.1595001220703125, -4.203700065612793, -4.242300033569336, -4.248199939727783, -4.26140022277832, -4.313000202178955, -4.354000091552734, -4.429599761962891, -4.473400115966797, -4.497200012207031, -4.5254998207092285, -4.567200183868408, -4.589799880981445, -4.625800132751465, -4.64870023727417, -4.692999839782715, -4.702000141143799, -4.709799766540527, -4.712699890136719, -4.7393999099731445, -4.768799781799316, -2.7095000743865967, -3.2188000679016113, -3.6826000213623047, -3.8097000122070312, -3.8285000324249268, -3.829400062561035, -3.928999900817871, -3.9842000007629395, -4.0258002281188965, -4.1315999031066895, -4.188499927520752, -4.2164998054504395, -4.238399982452393, -4.243000030517578, -4.261099815368652, -4.279600143432617, -4.299600124359131, -4.37939977645874, -4.385499954223633, -4.385700225830078, -4.395299911499023, -4.430500030517578, -4.461400032043457, -4.523900032043457, -4.547699928283691, -4.559899806976318, -4.651899814605713, -4.715199947357178, -4.71999979019165, -4.732600212097168, -3.3122000694274902, -3.360300064086914, -3.58489990234375, -3.6742000579833984, -3.7471001148223877, -3.9240000247955322, -3.94569993019104, -3.9465999603271484, -3.9971001148223877, -4.053199768066406, -4.150199890136719, -4.158100128173828, -4.280799865722656, -4.294400215148926, -4.335899829864502, -4.393700122833252, -4.408100128173828, -4.42140007019043, -4.43779993057251, -4.4980998039245605, -4.498199939727783, -4.553800106048584, -4.575900077819824, -4.586299896240234, -4.586599826812744, -4.6149001121521, -4.657599925994873, -4.708899974822998, -4.7399001121521, -4.786900043487549]}, \"token.table\": {\"Topic\": [7, 6, 7, 8, 4, 9, 3, 4, 5, 9, 9, 9, 5, 6, 5, 5, 1, 1, 2, 1, 4, 5, 5, 9, 3, 4, 3, 4, 1, 10, 5, 10, 3, 8, 6, 4, 3, 10, 9, 5, 8, 3, 6, 7, 1, 10, 6, 10, 8, 3, 10, 3, 2, 3, 10, 7, 3, 9, 3, 7, 1, 9, 5, 10, 2, 4, 3, 4, 7, 6, 6, 10, 10, 4, 7, 10, 2, 1, 2, 8, 5, 7, 4, 2, 9, 8, 3, 7, 3, 5, 10, 2, 7, 6, 2, 8, 4, 1, 2, 3, 5, 7, 4, 3, 1, 7, 2, 2, 9, 10, 9, 10, 4, 7, 2, 6, 6, 1, 6, 7, 4, 8, 5, 4, 10, 9, 6, 10, 8, 3, 2, 4, 1, 2, 5, 1, 10, 6, 2, 8, 1, 6, 5, 1, 10, 6, 8, 1, 6, 1, 4, 5, 3, 6, 1, 5, 4, 2, 6, 4, 9, 4, 10, 2, 2, 2, 8, 7, 6, 3, 7, 9, 8, 1, 5, 2, 8, 2, 5, 8, 6, 9, 7, 2, 10, 3, 4, 1, 10, 6, 4, 9, 2, 3, 8, 6, 3, 10, 3, 10, 9, 2, 6, 5, 1, 8, 1, 1, 2, 8, 3, 5, 8, 7, 1, 1, 5, 9, 7, 3, 9, 4, 6, 4, 10, 4, 4, 9, 8, 9, 9, 10, 8, 6, 3, 4, 7, 9, 5, 7, 5, 8, 9, 8, 8, 7, 1, 6, 8, 5, 8, 7, 6, 10, 10, 2, 7, 4, 1, 9, 9, 2, 9, 5, 7, 9, 10, 8, 10, 4, 5, 2, 7, 9, 6, 1, 7, 3, 3, 8, 3, 1, 9, 7, 7, 8, 1, 1, 10, 6, 2, 6, 5, 7, 5, 2, 8, 5, 3, 4], \"Freq\": [0.9974428415298462, 0.9954556822776794, 0.9943112730979919, 0.9963515400886536, 0.9969096779823303, 0.998751699924469, 0.9954803586006165, 0.9951268434524536, 0.9988627433776855, 0.9972783327102661, 0.9973482489585876, 0.9987109899520874, 0.9990683197975159, 0.999267041683197, 0.9979239106178284, 0.995091438293457, 0.9977226257324219, 0.9972980618476868, 0.9981799721717834, 0.9989619851112366, 0.9954908490180969, 0.9974597692489624, 0.9990773797035217, 0.9962459802627563, 0.9984654188156128, 0.9981982707977295, 0.994274914264679, 0.9978510141372681, 0.9995732307434082, 0.9962958693504333, 0.9978016018867493, 0.9960233569145203, 0.9975717067718506, 0.9981988072395325, 0.9965692758560181, 0.9963625073432922, 0.9975899457931519, 0.9973354935646057, 0.9976407289505005, 0.9990836977958679, 0.9980387687683105, 0.9992607831954956, 0.9947577714920044, 0.9958584904670715, 0.9978221654891968, 0.9942461848258972, 0.997298538684845, 0.9970105886459351, 0.9962558150291443, 0.9981734156608582, 0.9969358444213867, 0.9978594183921814, 0.9985355734825134, 0.9982097148895264, 0.9979190230369568, 0.9948094487190247, 0.9984185099601746, 0.9976329207420349, 0.9989302158355713, 0.9953178763389587, 0.9996256828308105, 0.9960633516311646, 0.9991168975830078, 0.9940459728240967, 0.9977210164070129, 0.9988073706626892, 0.9960250854492188, 0.9947981834411621, 0.9942983388900757, 0.9985682964324951, 0.9983527064323425, 0.9944019913673401, 0.9976708889007568, 0.9984272718429565, 0.9989855289459229, 0.9969252943992615, 0.9987378120422363, 0.9985435009002686, 0.9976367354393005, 0.996620237827301, 0.9978330135345459, 0.9956681132316589, 0.9959531426429749, 0.9992247819900513, 0.9956323504447937, 0.9951133728027344, 0.9989440441131592, 0.9985969066619873, 0.9995836615562439, 0.9975231289863586, 0.9951808452606201, 0.998033881187439, 0.9975777864456177, 0.9972913265228271, 0.9980013370513916, 0.9973196387290955, 0.9995155334472656, 0.9994102120399475, 0.998192548751831, 0.9993484020233154, 0.996027410030365, 0.9965348839759827, 0.9958851337432861, 0.9987388849258423, 0.9974644184112549, 0.9987621903419495, 0.9976949095726013, 0.9993683099746704, 0.9981200695037842, 0.9945627450942993, 0.996741533279419, 0.9958553910255432, 0.9943292737007141, 0.9982480406761169, 0.9977946281433105, 0.9992215037345886, 0.9971199035644531, 0.9995458722114563, 0.9970539212226868, 0.9980322122573853, 0.9966282844543457, 0.9981344938278198, 0.9963842034339905, 0.9974015355110168, 0.9951575398445129, 0.9954307079315186, 0.9975422024726868, 0.994500994682312, 0.9974576830863953, 0.9966404438018799, 0.9989129304885864, 0.998207688331604, 0.9974448084831238, 0.9987449049949646, 0.9984579682350159, 0.9986331462860107, 0.9924421906471252, 0.9981914758682251, 0.9961223006248474, 0.9963581562042236, 0.9985753297805786, 0.9981188774108887, 0.9991016387939453, 0.9970799088478088, 0.9986515641212463, 0.9991309642791748, 0.9970540404319763, 0.9986414313316345, 0.9973409175872803, 0.9982219934463501, 0.9988226294517517, 0.9961552023887634, 0.9977592825889587, 0.9965384006500244, 0.9991971850395203, 0.9971138834953308, 0.997861385345459, 0.9974735975265503, 0.9982318878173828, 0.9941829442977905, 0.997201681137085, 0.9950466156005859, 0.9965241551399231, 0.9984481930732727, 0.9977239370346069, 0.9988614320755005, 0.9976916313171387, 0.9964197874069214, 0.997979998588562, 0.9992539882659912, 0.9986385703086853, 0.9978529810905457, 0.9982656240463257, 0.9973456859588623, 0.9954789876937866, 0.9973791241645813, 0.9963733553886414, 0.9970298409461975, 0.9965769052505493, 0.998089075088501, 0.9977450370788574, 0.997284471988678, 0.9966965317726135, 0.9985524415969849, 0.9982326030731201, 0.9978265166282654, 0.9993271827697754, 0.99782794713974, 0.998856246471405, 0.998690664768219, 0.9988040328025818, 0.9953997731208801, 0.9966188669204712, 0.9967424273490906, 0.9973695874214172, 0.9985698461532593, 0.9975471496582031, 0.9982070922851562, 0.9952529072761536, 0.9948335289955139, 0.9962786436080933, 0.9989215135574341, 0.9975044131278992, 0.9975793957710266, 0.9983975291252136, 0.9970040917396545, 0.9977335929870605, 0.9985435009002686, 0.997976541519165, 0.9968724846839905, 0.9983628988265991, 0.9967694878578186, 0.9978331923484802, 0.998480498790741, 0.9992347359657288, 0.9979070425033569, 0.9982325434684753, 0.9936122894287109, 0.9980967044830322, 0.9979592561721802, 0.9975311160087585, 0.999341607093811, 0.9976931214332581, 0.9975597858428955, 0.9980486035346985, 0.9995867013931274, 0.9941245913505554, 0.997860848903656, 0.9952558875083923, 0.9979525804519653, 0.9946852326393127, 0.997667670249939, 0.9970515966415405, 0.9955068230628967, 0.9980992078781128, 0.9979566335678101, 0.9954224824905396, 0.9979796409606934, 0.9984485507011414, 0.9978509545326233, 0.9972370862960815, 0.9972560405731201, 0.9959544539451599, 0.9970168471336365, 0.9969757795333862, 0.9985329508781433, 0.9993838667869568, 0.9990429878234863, 0.9964779615402222, 0.9981571435928345, 0.9958880543708801, 0.9974294304847717, 0.997733473777771, 0.9951693415641785, 0.9973533749580383, 0.9982948899269104, 0.9974594116210938, 0.9992178678512573, 0.9989100694656372, 0.9970794320106506, 0.9983952641487122, 0.9987492561340332, 0.9995452165603638, 0.9954400658607483, 0.9975675940513611, 0.9982774257659912, 0.9933418035507202, 0.9973368644714355, 0.9962785243988037, 0.9961139559745789, 0.9973182678222656, 0.9994049072265625, 0.9988215565681458, 0.9969767332077026, 0.9962087273597717, 0.9983867406845093, 0.9972497820854187, 0.9972023367881775, 0.9941564202308655, 0.9992336630821228, 0.9998951554298401, 0.9993469715118408, 0.9981515407562256, 0.9976546168327332, 0.9945082664489746, 0.9959248304367065, 0.9991731643676758, 0.9977947473526001, 0.9983830451965332, 0.9988173246383667, 0.9980272650718689, 0.9964418411254883, 0.9970876574516296, 0.9974537491798401, 0.9978288412094116, 0.9991559982299805, 0.9941418766975403, 0.9984444379806519, 0.997897744178772, 0.9959609508514404], \"Term\": [\"able\", \"action\", \"add\", \"affect\", \"air\", \"also\", \"always\", \"american\", \"article\", \"ask\", \"away\", \"bad\", \"battle\", \"be\", \"become\", \"begin\", \"believe\", \"big\", \"blame\", \"break\", \"briefing\", \"bring\", \"business\", \"buy\", \"call\", \"can\", \"cancel\", \"care\", \"case\", \"catch\", \"cause\", \"celebrity\", \"change\", \"check\", \"child\", \"chinese\", \"city\", \"claim\", \"clean\", \"close\", \"closure\", \"come\", \"community\", \"concern\", \"confirm\", \"contain\", \"continue\", \"contract\", \"control\", \"coronavirus\", \"cough\", \"country\", \"crisis\", \"cure\", \"cut\", \"dangerous\", \"day\", \"dead\", \"deadly\", \"deal\", \"death\", \"develop\", \"die\", \"discuss\", \"disease\", \"doctor\", \"donate\", \"drug\", \"eat\", \"economic\", \"economy\", \"effort\", \"emergency\", \"employee\", \"end\", \"enough\", \"even\", \"event\", \"expert\", \"face\", \"facility\", \"fact\", \"fail\", \"family\", \"fan\", \"fast\", \"fear\", \"feel\", \"fight\", \"find\", \"flu\", \"follow\", \"food\", \"force\", \"friend\", \"full\", \"get\", \"give\", \"global\", \"go\", \"good\", \"great\", \"guy\", \"hand\", \"happen\", \"hard\", \"have\", \"health\", \"hear\", \"heart\", \"help\", \"here\", \"history\", \"hit\", \"hold\", \"home\", \"hope\", \"hospital\", \"host\", \"hour\", \"html\", \"impact\", \"important\", \"increase\", \"industry\", \"infection\", \"information\", \"instead\", \"issue\", \"job\", \"keep\", \"kid\", \"kill\", \"know\", \"last\", \"late\", \"law\", \"leader\", \"learn\", \"least\", \"leave\", \"less\", \"let\", \"lie\", \"life\", \"live\", \"local\", \"lockdown\", \"long\", \"look\", \"lose\", \"lot\", \"love\", \"low\", \"make\", \"man\", \"mask\", \"medical\", \"medium\", \"member\", \"message\", \"million\", \"mind\", \"money\", \"month\", \"much\", \"must\", \"name\", \"nation\", \"need\", \"never\", \"next\", \"novel\", \"number\", \"offer\", \"official\", \"online\", \"open\", \"opinion\", \"order\", \"other\", \"outbreak\", \"package\", \"pandemic\", \"part\", \"pass\", \"patient\", \"pay\", \"person\", \"place\", \"plan\", \"play\", \"point\", \"politic\", \"poor\", \"positive\", \"possible\", \"post\", \"prepare\", \"prevent\", \"problem\", \"protect\", \"provide\", \"public\", \"put\", \"quarantine\", \"question\", \"rate\", \"read\", \"real\", \"really\", \"recover\", \"relate\", \"relief\", \"report\", \"response\", \"return\", \"rich\", \"right\", \"risk\", \"run\", \"s\", \"safe\", \"safety\", \"save\", \"say\", \"school\", \"see\", \"seek\", \"seem\", \"serious\", \"service\", \"share\", \"shelter\", \"shit\", \"show\", \"shut\", \"sick\", \"sign\", \"situation\", \"slow\", \"soon\", \"speak\", \"spread\", \"staff\", \"start\", \"state\", \"stimulus\", \"store\", \"struggle\", \"student\", \"supply\", \"support\", \"suspend\", \"symptom\", \"take\", \"talk\", \"tell\", \"test\", \"testing\", \"thank\", \"thing\", \"think\", \"time\", \"tip\", \"together\", \"tomorrow\", \"top\", \"travel\", \"treat\", \"treatment\", \"trump\", \"try\", \"turn\", \"unemployment\", \"update\", \"use\", \"vaccine\", \"ventilator\", \"video\", \"virus\", \"vote\", \"wait\", \"want\", \"warehouse\", \"warn\", \"watch\", \"way\", \"week\", \"well\", \"whole\", \"will\", \"woman\", \"word\", \"work\", \"worker\", \"write\", \"year\", \"yet\", \"young\"]}, \"R\": 30, \"lambda.step\": 0.01, \"plot.opts\": {\"xlab\": \"PC1\", \"ylab\": \"PC2\"}, \"topic.order\": [10, 5, 8, 7, 2, 1, 4, 3, 6, 9]};\n",
       "\n",
       "function LDAvis_load_lib(url, callback){\n",
       "  var s = document.createElement('script');\n",
       "  s.src = url;\n",
       "  s.async = true;\n",
       "  s.onreadystatechange = s.onload = callback;\n",
       "  s.onerror = function(){console.warn(\"failed to load library \" + url);};\n",
       "  document.getElementsByTagName(\"head\")[0].appendChild(s);\n",
       "}\n",
       "\n",
       "if(typeof(LDAvis) !== \"undefined\"){\n",
       "   // already loaded: just create the visualization\n",
       "   !function(LDAvis){\n",
       "       new LDAvis(\"#\" + \"ldavis_el150601124590053926801588307\", ldavis_el150601124590053926801588307_data);\n",
       "   }(LDAvis);\n",
       "}else if(typeof define === \"function\" && define.amd){\n",
       "   // require.js is available: use it to load d3/LDAvis\n",
       "   require.config({paths: {d3: \"https://cdnjs.cloudflare.com/ajax/libs/d3/3.5.5/d3.min\"}});\n",
       "   require([\"d3\"], function(d3){\n",
       "      window.d3 = d3;\n",
       "      LDAvis_load_lib(\"https://cdn.rawgit.com/bmabey/pyLDAvis/files/ldavis.v1.0.0.js\", function(){\n",
       "        new LDAvis(\"#\" + \"ldavis_el150601124590053926801588307\", ldavis_el150601124590053926801588307_data);\n",
       "      });\n",
       "    });\n",
       "}else{\n",
       "    // require.js not available: dynamically load d3 & LDAvis\n",
       "    LDAvis_load_lib(\"https://cdnjs.cloudflare.com/ajax/libs/d3/3.5.5/d3.min.js\", function(){\n",
       "         LDAvis_load_lib(\"https://cdn.rawgit.com/bmabey/pyLDAvis/files/ldavis.v1.0.0.js\", function(){\n",
       "                 new LDAvis(\"#\" + \"ldavis_el150601124590053926801588307\", ldavis_el150601124590053926801588307_data);\n",
       "            })\n",
       "         });\n",
       "}\n",
       "</script>"
      ],
      "text/plain": [
       "PreparedData(topic_coordinates=              x         y  topics  cluster       Freq\n",
       "topic                                                \n",
       "9      0.434880 -0.008759       1        1  17.288967\n",
       "4     -0.016436  0.384861       2        1  13.674149\n",
       "7     -0.008698 -0.238217       3        1  13.601151\n",
       "6     -0.055831 -0.023276       4        1   9.322550\n",
       "1     -0.055561 -0.018576       5        1   8.751752\n",
       "0     -0.058187 -0.017172       6        1   8.330493\n",
       "3     -0.060748 -0.017952       7        1   8.131811\n",
       "2     -0.060029 -0.020548       8        1   7.925283\n",
       "5     -0.059276 -0.021896       9        1   7.166766\n",
       "8     -0.060114 -0.018465      10        1   5.807082, topic_info=     Category         Freq       Term        Total  loglift  logprob\n",
       "69    Default  5364.000000      virus  5364.000000  30.0000  30.0000\n",
       "11    Default  2385.000000        say  2385.000000  29.0000  29.0000\n",
       "431   Default  2157.000000         go  2157.000000  28.0000  28.0000\n",
       "197   Default  1798.000000        get  1798.000000  27.0000  27.0000\n",
       "32    Default  1500.000000      think  1500.000000  26.0000  26.0000\n",
       "...       ...          ...        ...          ...      ...      ...\n",
       "1755  Topic10   180.783737  celebrity   181.722641   2.8409  -4.6149\n",
       "1389  Topic10   173.220703   tomorrow   174.159592   2.8407  -4.6576\n",
       "115   Topic10   164.568329      cough   165.507141   2.8404  -4.7089\n",
       "183   Topic10   159.540894   contract   160.479736   2.8402  -4.7399\n",
       "1760  Topic10   152.218735        law   153.157532   2.8399  -4.7869\n",
       "\n",
       "[330 rows x 6 columns], token_table=      Topic      Freq    Term\n",
       "term                         \n",
       "713       7  0.997443    able\n",
       "1134      6  0.995456  action\n",
       "1370      7  0.994311     add\n",
       "449       8  0.996352  affect\n",
       "1089      4  0.996910     air\n",
       "...     ...       ...     ...\n",
       "53        2  0.999156  worker\n",
       "1133      8  0.994142   write\n",
       "46        5  0.998444    year\n",
       "581       3  0.997898     yet\n",
       "932       4  0.995961   young\n",
       "\n",
       "[300 rows x 3 columns], R=30, lambda_step=0.01, plot_opts={'xlab': 'PC1', 'ylab': 'PC2'}, topic_order=[10, 5, 8, 7, 2, 1, 4, 3, 6, 9])"
      ]
     },
     "execution_count": 42,
     "metadata": {},
     "output_type": "execute_result"
    }
   ],
   "source": [
    "# Visualize the topics\n",
    "pyLDAvis.enable_notebook()\n",
    "vis = pyLDAvis.gensim.prepare(lda_model_10, corpus, id2word)\n",
    "vis"
   ]
  },
  {
   "cell_type": "code",
   "execution_count": null,
   "metadata": {},
   "outputs": [],
   "source": [
    "# Visualize the topics\n",
    "pyLDAvis.enable_notebook()\n",
    "vis = pyLDAvis.gensim.prepare(lda_model, corpus, id2word)\n",
    "vis"
   ]
  },
  {
   "cell_type": "code",
   "execution_count": null,
   "metadata": {},
   "outputs": [],
   "source": []
  }
 ],
 "metadata": {
  "kernelspec": {
   "display_name": "Python 3",
   "language": "python",
   "name": "python3"
  },
  "language_info": {
   "codemirror_mode": {
    "name": "ipython",
    "version": 3
   },
   "file_extension": ".py",
   "mimetype": "text/x-python",
   "name": "python",
   "nbconvert_exporter": "python",
   "pygments_lexer": "ipython3",
   "version": "3.7.4"
  },
  "toc": {
   "base_numbering": 1,
   "nav_menu": {},
   "number_sections": true,
   "sideBar": true,
   "skip_h1_title": false,
   "title_cell": "Table of Contents",
   "title_sidebar": "Contents",
   "toc_cell": false,
   "toc_position": {
    "height": "calc(100% - 180px)",
    "left": "10px",
    "top": "150px",
    "width": "165px"
   },
   "toc_section_display": true,
   "toc_window_display": true
  }
 },
 "nbformat": 4,
 "nbformat_minor": 2
}
